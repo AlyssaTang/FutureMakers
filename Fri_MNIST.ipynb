{
  "nbformat": 4,
  "nbformat_minor": 0,
  "metadata": {
    "colab": {
      "name": "Fri_MNIST.ipynb",
      "provenance": [],
      "authorship_tag": "ABX9TyOAMP6L4BzozYmCOVFIj33F",
      "include_colab_link": true
    },
    "kernelspec": {
      "name": "python3",
      "display_name": "Python 3"
    },
    "language_info": {
      "name": "python"
    }
  },
  "cells": [
    {
      "cell_type": "markdown",
      "metadata": {
        "id": "view-in-github",
        "colab_type": "text"
      },
      "source": [
        "<a href=\"https://colab.research.google.com/github/AlyssaTang/FutureMakers/blob/main/Fri_MNIST.ipynb\" target=\"_parent\"><img src=\"https://colab.research.google.com/assets/colab-badge.svg\" alt=\"Open In Colab\"/></a>"
      ]
    },
    {
      "cell_type": "code",
      "metadata": {
        "colab": {
          "base_uri": "https://localhost:8080/",
          "height": 302
        },
        "id": "F3PECghs-BAp",
        "outputId": "8717b7e7-c8e4-4b73-e99f-b3af32178655"
      },
      "source": [
        "# example of loading the mnist dataset\n",
        "from keras.datasets import mnist\n",
        "from matplotlib import pyplot\n",
        "# from keras.utils import to_categorical\n",
        "import tensorflow as tf\n",
        "# load dataset\n",
        "(trainX, trainy), (testX, testy) = mnist.load_data()\n",
        "# summarize loaded dataset\n",
        "print('Train: X=%s, y=%s' % (trainX.shape, trainy.shape))\n",
        "print('Test: X=%s, y=%s' % (testX.shape, testy.shape))\n",
        "# plot first few images\n",
        "for i in range(9):\n",
        "\t# define subplot\n",
        "\tpyplot.subplot(330 + 1 + i)\n",
        "\t# plot raw pixel data\n",
        "\tpyplot.imshow(trainX[i], cmap=pyplot.get_cmap('gray'))\n",
        "# show the figure\n",
        "pyplot.show()"
      ],
      "execution_count": 17,
      "outputs": [
        {
          "output_type": "stream",
          "text": [
            "Train: X=(60000, 28, 28), y=(60000,)\n",
            "Test: X=(10000, 28, 28), y=(10000,)\n"
          ],
          "name": "stdout"
        },
        {
          "output_type": "display_data",
          "data": {
            "image/png": "[encoded data removed]",
            "text/plain": [
              "<Figure size 432x288 with 9 Axes>"
            ]
          },
          "metadata": {
            "tags": [],
            "needs_background": "light"
          }
        }
      ]
    },
    {
      "cell_type": "code",
      "metadata": {
        "id": "58WZZpIy-cw6"
      },
      "source": [
        "# record model performance on a validation dataset during training\n",
        "# history = model.fit(..., validation_data=(valX, valY))"
      ],
      "execution_count": 18,
      "outputs": []
    },
    {
      "cell_type": "code",
      "metadata": {
        "id": "3_maFaOS_Psq"
      },
      "source": [
        "# # example of k-fold cv for a neural net\n",
        "# data = trainX\n",
        "# # prepare cross validation\n",
        "# kfold = KFold(5, shuffle=True, random_state=1)\n",
        "# # enumerate splits\n",
        "# for train_ix, test_ix in kfold.split(data):\n",
        "#         model = ..."
      ],
      "execution_count": 19,
      "outputs": []
    },
    {
      "cell_type": "code",
      "metadata": {
        "id": "gy1uTZ9w_eto"
      },
      "source": [
        "# load dataset\n",
        "(trainX, trainY), (testX, testY) = mnist.load_data()\n",
        "# reshape dataset to have a single channel\n",
        "trainX = trainX.reshape((trainX.shape[0], 28, 28, 1))\n",
        "testX = testX.reshape((testX.shape[0], 28, 28, 1))"
      ],
      "execution_count": 20,
      "outputs": []
    },
    {
      "cell_type": "code",
      "metadata": {
        "id": "fYP-EHi3AONU"
      },
      "source": [
        "# load train and test dataset\n",
        "def load_dataset():\n",
        "\t# load dataset\n",
        "\t(trainX, trainY), (testX, testY) = mnist.load_data()\n",
        "\t# reshape dataset to have a single channel\n",
        "\ttrainX = trainX.reshape((trainX.shape[0], 28, 28, 1))\n",
        "\ttestX = testX.reshape((testX.shape[0], 28, 28, 1))\n",
        "\t# one hot encode target values\n",
        "\ttrainY = tf.keras.utils.to_categorical(trainY)\n",
        "\ttestY = tf.keras.utils.to_categorical(testY)\n",
        "\treturn trainX, trainY, testX, testY"
      ],
      "execution_count": 21,
      "outputs": []
    },
    {
      "cell_type": "code",
      "metadata": {
        "id": "rOO6VhdDA6dP"
      },
      "source": [
        "# scale pixels\n",
        "def prep_pixels(train, test):\n",
        "\t# convert from integers to floats\n",
        "\ttrain_norm = train.astype('float32')\n",
        "\ttest_norm = test.astype('float32')\n",
        "\t# normalize to range 0-1\n",
        "\ttrain_norm = train_norm / 255.0\n",
        "\ttest_norm = test_norm / 255.0\n",
        "\t# return normalized images\n",
        "\treturn train_norm, test_norm"
      ],
      "execution_count": 22,
      "outputs": []
    },
    {
      "cell_type": "code",
      "metadata": {
        "id": "blcuMQB0Bb7b"
      },
      "source": [
        "# define cnn model\n",
        "def define_model():\n",
        "\tmodel = Sequential()\n",
        "\tmodel.add(Conv2D(32, (3, 3), activation='relu', kernel_initializer='he_uniform', input_shape=(28, 28, 1)))\n",
        "\tmodel.add(MaxPooling2D((2, 2)))\n",
        "\tmodel.add(Flatten())\n",
        "\tmodel.add(Dense(100, activation='relu', kernel_initializer='he_uniform'))\n",
        "  # model.add(Dense(50, activation='relu'))\n",
        "\tmodel.add(Dense(10, activation='softmax'))\n",
        "\t# compile model\n",
        "\topt = tf.keras.optimizers.SGD(learning_rate=0.01, momentum=0.9)\n",
        "\tmodel.compile(optimizer=opt, loss='categorical_crossentropy', metrics=['accuracy'])\n",
        "\treturn model"
      ],
      "execution_count": 23,
      "outputs": []
    },
    {
      "cell_type": "code",
      "metadata": {
        "id": "vbZdfT5sBl88"
      },
      "source": [
        "# evaluate a model using k-fold cross-validation\n",
        "def evaluate_model(dataX, dataY, n_folds=5):\n",
        "\tscores, histories = list(), list()\n",
        "\t# prepare cross validation\n",
        "\tkfold = KFold(n_folds, shuffle=True, random_state=1)\n",
        "\t# enumerate splits\n",
        "\tfor train_ix, test_ix in kfold.split(dataX):\n",
        "\t\t# define model\n",
        "\t\tmodel = define_model()\n",
        "\t\t# select rows for train and test\n",
        "\t\ttrainX, trainY, testX, testY = dataX[train_ix], dataY[train_ix], dataX[test_ix], dataY[test_ix]\n",
        "\t\t# fit model\n",
        "\t\thistory = model.fit(trainX, trainY, epochs=10, batch_size=32, validation_data=(testX, testY), verbose=2) #plan to change the different hyperparameter soon!\n",
        "\t\t# evaluate model\n",
        "\t\t_, acc = model.evaluate(testX, testY, verbose=0)\n",
        "\t\tprint('> %.3f' % (acc * 100.0))\n",
        "\t\t# stores scores\n",
        "\t\tscores.append(acc)\n",
        "\t\thistories.append(history)\n",
        "\treturn scores, histories"
      ],
      "execution_count": 31,
      "outputs": []
    },
    {
      "cell_type": "code",
      "metadata": {
        "id": "K91ajxPJDVyd"
      },
      "source": [
        "# plot diagnostic learning curves\n",
        "def summarize_diagnostics(histories):\n",
        "\tfor i in range(len(histories)):\n",
        "\t\t# plot loss\n",
        "\t\tpyplot.subplot(2, 1, 1)\n",
        "\t\tpyplot.title('Cross Entropy Loss')\n",
        "\t\tpyplot.plot(histories[i].history['loss'], color='blue', label='train')\n",
        "\t\tpyplot.plot(histories[i].history['val_loss'], color='orange', label='test')\n",
        "\t\t# plot accuracy\n",
        "\t\tpyplot.subplot(2, 1, 2)\n",
        "\t\tpyplot.title('Classification Accuracy')\n",
        "\t\tpyplot.plot(histories[i].history['accuracy'], color='blue', label='train')\n",
        "\t\tpyplot.plot(histories[i].history['val_accuracy'], color='orange', label='test')\n",
        "\tpyplot.show()"
      ],
      "execution_count": 25,
      "outputs": []
    },
    {
      "cell_type": "code",
      "metadata": {
        "id": "jdr7YJ-SDY_a"
      },
      "source": [
        "# summarize model performance\n",
        "def summarize_performance(scores):\n",
        "\t# print summary\n",
        "\tprint('Accuracy: mean=%.3f std=%.3f, n=%d' % (mean(scores)*100, std(scores)*100, len(scores)))\n",
        "\t# box and whisker plots of results\n",
        "\tpyplot.boxplot(scores)\n",
        "\tpyplot.show()"
      ],
      "execution_count": 26,
      "outputs": []
    },
    {
      "cell_type": "code",
      "metadata": {
        "id": "wCzWvOwJEath"
      },
      "source": [
        "from sklearn.model_selection import KFold \n",
        "from keras.models import Sequential\n",
        "from keras.layers import Dense, Dropout, Flatten, Conv2D, MaxPooling2D\n"
      ],
      "execution_count": 27,
      "outputs": []
    },
    {
      "cell_type": "code",
      "metadata": {
        "id": "EAI6sTzPGsOC"
      },
      "source": [
        "from numpy import mean\n",
        "from numpy import std"
      ],
      "execution_count": 35,
      "outputs": []
    },
    {
      "cell_type": "code",
      "metadata": {
        "colab": {
          "base_uri": "https://localhost:8080/",
          "height": 1000
        },
        "id": "j0TS_hqtDaWU",
        "outputId": "b82686a8-e69b-4a7e-f8ab-9b3657d77a1c"
      },
      "source": [
        "# run the test harness for evaluating a model\n",
        "def run_test_harness():\n",
        "\t# load dataset\n",
        "\ttrainX, trainY, testX, testY = load_dataset()\n",
        "\t# prepare pixel data\n",
        "\ttrainX, testX = prep_pixels(trainX, testX)\n",
        "\t# evaluate model\n",
        "\tscores, histories = evaluate_model(trainX, trainY)\n",
        "\t# learning curves\n",
        "\tsummarize_diagnostics(histories)\n",
        "\t# summarize estimated performance\n",
        "\tsummarize_performance(scores)\n",
        " \n",
        "# entry point, run the test harness\n",
        "run_test_harness()"
      ],
      "execution_count": 32,
      "outputs": [
        {
          "output_type": "stream",
          "text": [
            "Epoch 1/10\n",
            "1500/1500 - 25s - loss: 0.1810 - accuracy: 0.9446 - val_loss: 0.0802 - val_accuracy: 0.9766\n",
            "Epoch 2/10\n",
            "1500/1500 - 24s - loss: 0.0588 - accuracy: 0.9825 - val_loss: 0.0630 - val_accuracy: 0.9810\n",
            "Epoch 3/10\n",
            "1500/1500 - 24s - loss: 0.0377 - accuracy: 0.9886 - val_loss: 0.0721 - val_accuracy: 0.9775\n",
            "Epoch 4/10\n",
            "1500/1500 - 24s - loss: 0.0242 - accuracy: 0.9931 - val_loss: 0.0571 - val_accuracy: 0.9847\n",
            "Epoch 5/10\n",
            "1500/1500 - 24s - loss: 0.0175 - accuracy: 0.9945 - val_loss: 0.0559 - val_accuracy: 0.9831\n",
            "Epoch 6/10\n",
            "1500/1500 - 24s - loss: 0.0109 - accuracy: 0.9971 - val_loss: 0.0595 - val_accuracy: 0.9834\n",
            "Epoch 7/10\n",
            "1500/1500 - 24s - loss: 0.0080 - accuracy: 0.9978 - val_loss: 0.0566 - val_accuracy: 0.9851\n",
            "Epoch 8/10\n",
            "1500/1500 - 24s - loss: 0.0049 - accuracy: 0.9989 - val_loss: 0.0552 - val_accuracy: 0.9850\n",
            "Epoch 9/10\n",
            "1500/1500 - 24s - loss: 0.0033 - accuracy: 0.9994 - val_loss: 0.0542 - val_accuracy: 0.9853\n",
            "Epoch 10/10\n",
            "1500/1500 - 24s - loss: 0.0019 - accuracy: 0.9999 - val_loss: 0.0572 - val_accuracy: 0.9866\n",
            "> 98.658\n",
            "Epoch 1/10\n",
            "1500/1500 - 25s - loss: 0.1786 - accuracy: 0.9461 - val_loss: 0.0964 - val_accuracy: 0.9719\n",
            "Epoch 2/10\n",
            "1500/1500 - 24s - loss: 0.0602 - accuracy: 0.9817 - val_loss: 0.0651 - val_accuracy: 0.9815\n",
            "Epoch 3/10\n",
            "1500/1500 - 23s - loss: 0.0383 - accuracy: 0.9883 - val_loss: 0.0580 - val_accuracy: 0.9827\n",
            "Epoch 4/10\n",
            "1500/1500 - 23s - loss: 0.0276 - accuracy: 0.9918 - val_loss: 0.0524 - val_accuracy: 0.9845\n",
            "Epoch 5/10\n",
            "1500/1500 - 24s - loss: 0.0185 - accuracy: 0.9948 - val_loss: 0.0550 - val_accuracy: 0.9843\n",
            "Epoch 6/10\n",
            "1500/1500 - 23s - loss: 0.0129 - accuracy: 0.9965 - val_loss: 0.0512 - val_accuracy: 0.9868\n",
            "Epoch 7/10\n",
            "1500/1500 - 23s - loss: 0.0084 - accuracy: 0.9980 - val_loss: 0.0534 - val_accuracy: 0.9851\n",
            "Epoch 8/10\n",
            "1500/1500 - 23s - loss: 0.0063 - accuracy: 0.9987 - val_loss: 0.0562 - val_accuracy: 0.9853\n",
            "Epoch 9/10\n",
            "1500/1500 - 24s - loss: 0.0046 - accuracy: 0.9990 - val_loss: 0.0501 - val_accuracy: 0.9864\n",
            "Epoch 10/10\n",
            "1500/1500 - 24s - loss: 0.0034 - accuracy: 0.9994 - val_loss: 0.0517 - val_accuracy: 0.9869\n",
            "> 98.692\n",
            "Epoch 1/10\n",
            "1500/1500 - 25s - loss: 0.1941 - accuracy: 0.9396 - val_loss: 0.0932 - val_accuracy: 0.9716\n",
            "Epoch 2/10\n",
            "1500/1500 - 24s - loss: 0.0643 - accuracy: 0.9805 - val_loss: 0.0645 - val_accuracy: 0.9794\n",
            "Epoch 3/10\n",
            "1500/1500 - 24s - loss: 0.0408 - accuracy: 0.9875 - val_loss: 0.0629 - val_accuracy: 0.9809\n",
            "Epoch 4/10\n",
            "1500/1500 - 24s - loss: 0.0290 - accuracy: 0.9914 - val_loss: 0.0557 - val_accuracy: 0.9836\n",
            "Epoch 5/10\n",
            "1500/1500 - 24s - loss: 0.0192 - accuracy: 0.9941 - val_loss: 0.0556 - val_accuracy: 0.9835\n",
            "Epoch 6/10\n",
            "1500/1500 - 24s - loss: 0.0123 - accuracy: 0.9968 - val_loss: 0.0546 - val_accuracy: 0.9839\n",
            "Epoch 7/10\n",
            "1500/1500 - 24s - loss: 0.0081 - accuracy: 0.9978 - val_loss: 0.0525 - val_accuracy: 0.9845\n",
            "Epoch 8/10\n",
            "1500/1500 - 24s - loss: 0.0047 - accuracy: 0.9991 - val_loss: 0.0557 - val_accuracy: 0.9856\n",
            "Epoch 9/10\n",
            "1500/1500 - 24s - loss: 0.0035 - accuracy: 0.9994 - val_loss: 0.0574 - val_accuracy: 0.9855\n",
            "Epoch 10/10\n",
            "1500/1500 - 24s - loss: 0.0022 - accuracy: 0.9998 - val_loss: 0.0577 - val_accuracy: 0.9855\n",
            "> 98.550\n",
            "Epoch 1/10\n",
            "1500/1500 - 25s - loss: 0.1786 - accuracy: 0.9466 - val_loss: 0.0750 - val_accuracy: 0.9779\n",
            "Epoch 2/10\n",
            "1500/1500 - 24s - loss: 0.0617 - accuracy: 0.9819 - val_loss: 0.0605 - val_accuracy: 0.9825\n",
            "Epoch 3/10\n",
            "1500/1500 - 24s - loss: 0.0397 - accuracy: 0.9880 - val_loss: 0.0433 - val_accuracy: 0.9871\n",
            "Epoch 4/10\n",
            "1500/1500 - 24s - loss: 0.0265 - accuracy: 0.9919 - val_loss: 0.0443 - val_accuracy: 0.9872\n",
            "Epoch 5/10\n",
            "1500/1500 - 24s - loss: 0.0179 - accuracy: 0.9950 - val_loss: 0.0403 - val_accuracy: 0.9878\n",
            "Epoch 6/10\n",
            "1500/1500 - 24s - loss: 0.0122 - accuracy: 0.9968 - val_loss: 0.0421 - val_accuracy: 0.9871\n",
            "Epoch 7/10\n",
            "1500/1500 - 24s - loss: 0.0083 - accuracy: 0.9981 - val_loss: 0.0417 - val_accuracy: 0.9881\n",
            "Epoch 8/10\n",
            "1500/1500 - 24s - loss: 0.0053 - accuracy: 0.9993 - val_loss: 0.0401 - val_accuracy: 0.9885\n",
            "Epoch 9/10\n",
            "1500/1500 - 23s - loss: 0.0042 - accuracy: 0.9992 - val_loss: 0.0397 - val_accuracy: 0.9884\n",
            "Epoch 10/10\n",
            "1500/1500 - 24s - loss: 0.0030 - accuracy: 0.9997 - val_loss: 0.0424 - val_accuracy: 0.9893\n",
            "> 98.925\n",
            "Epoch 1/10\n",
            "1500/1500 - 24s - loss: 0.1843 - accuracy: 0.9435 - val_loss: 0.0817 - val_accuracy: 0.9743\n",
            "Epoch 2/10\n",
            "1500/1500 - 23s - loss: 0.0612 - accuracy: 0.9819 - val_loss: 0.0612 - val_accuracy: 0.9819\n",
            "Epoch 3/10\n",
            "1500/1500 - 23s - loss: 0.0391 - accuracy: 0.9884 - val_loss: 0.0529 - val_accuracy: 0.9855\n",
            "Epoch 4/10\n",
            "1500/1500 - 23s - loss: 0.0260 - accuracy: 0.9923 - val_loss: 0.0529 - val_accuracy: 0.9849\n",
            "Epoch 5/10\n",
            "1500/1500 - 23s - loss: 0.0161 - accuracy: 0.9957 - val_loss: 0.0561 - val_accuracy: 0.9837\n",
            "Epoch 6/10\n",
            "1500/1500 - 23s - loss: 0.0122 - accuracy: 0.9965 - val_loss: 0.0611 - val_accuracy: 0.9818\n",
            "Epoch 7/10\n",
            "1500/1500 - 23s - loss: 0.0088 - accuracy: 0.9978 - val_loss: 0.0546 - val_accuracy: 0.9837\n",
            "Epoch 8/10\n",
            "1500/1500 - 23s - loss: 0.0057 - accuracy: 0.9989 - val_loss: 0.0497 - val_accuracy: 0.9868\n",
            "Epoch 9/10\n",
            "1500/1500 - 24s - loss: 0.0031 - accuracy: 0.9997 - val_loss: 0.0505 - val_accuracy: 0.9876\n",
            "Epoch 10/10\n",
            "1500/1500 - 24s - loss: 0.0024 - accuracy: 0.9998 - val_loss: 0.0536 - val_accuracy: 0.9868\n",
            "> 98.675\n"
          ],
          "name": "stdout"
        },
        {
          "output_type": "stream",
          "text": [
            "/usr/local/lib/python3.7/dist-packages/ipykernel_launcher.py:5: MatplotlibDeprecationWarning: Adding an axes using the same arguments as a previous axes currently reuses the earlier instance.  In a future version, a new instance will always be created and returned.  Meanwhile, this warning can be suppressed, and the future behavior ensured, by passing a unique label to each axes instance.\n",
            "  \"\"\"\n",
            "/usr/local/lib/python3.7/dist-packages/ipykernel_launcher.py:10: MatplotlibDeprecationWarning: Adding an axes using the same arguments as a previous axes currently reuses the earlier instance.  In a future version, a new instance will always be created and returned.  Meanwhile, this warning can be suppressed, and the future behavior ensured, by passing a unique label to each axes instance.\n",
            "  # Remove the CWD from sys.path while we load stuff.\n"
          ],
          "name": "stderr"
        },
        {
          "output_type": "display_data",
          "data": {
            "image/png": "[encoded data removed]",
            "text/plain": [
              "<Figure size 432x288 with 2 Axes>"
            ]
          },
          "metadata": {
            "tags": [],
            "needs_background": "light"
          }
        },
        {
          "output_type": "stream",
          "text": [
            "Accuracy: mean=98.700 std=0.123, n=5\n"
          ],
          "name": "stdout"
        },
        {
          "output_type": "display_data",
          "data": {
            "image/png": "[encoded data removed]",
            "text/plain": [
              "<Figure size 432x288 with 1 Axes>"
            ]
          },
          "metadata": {
            "tags": [],
            "needs_background": "light"
          }
        }
      ]
    }
  ]
}