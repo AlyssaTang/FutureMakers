{
 "cells": [
  {
   "cell_type": "code",
   "execution_count": 1,
   "id": "7eb5d9aa",
   "metadata": {},
   "outputs": [],
   "source": [
    "import random"
   ]
  },
  {
   "cell_type": "code",
   "execution_count": 2,
   "id": "cae27397",
   "metadata": {},
   "outputs": [
    {
     "name": "stdout",
     "output_type": "stream",
     "text": [
      "BOT: What do you want me to call you?\n",
      "Alyssa\n"
     ]
    }
   ],
   "source": [
    "print(\"BOT: What do you want me to call you?\")\n",
    "user_name = input()"
   ]
  },
  {
   "cell_type": "code",
   "execution_count": 3,
   "id": "b58709d3",
   "metadata": {},
   "outputs": [],
   "source": [
    "bot_template = \"BOT : {0}\"\n",
    "user_template = user_name + \" : {0}\""
   ]
  },
  {
   "cell_type": "code",
   "execution_count": 4,
   "id": "5c0b1fd5",
   "metadata": {},
   "outputs": [],
   "source": [
    "name = \"Bot\" \n",
    "weather = \"rainy\" \n",
    "mood = \"Happy\"\n",
    "last_name = \"101\"\n",
    "\n",
    "responses = { \n",
    "\"what's your name?\": [ \n",
    "\"They call me {0} {1}\".format(name, last_name), #using 2 variables\n",
    "\"I usually go by {0}\".format(name), \n",
    "\"My name is the {0}\".format(name),\n",
    "\"My first name's {0}\".format(name) + \" and my last name's {0}\".format(last_name) + \". Pleasure to meet you!\"],\n",
    "\n",
    "\"what's today's weather?\": [ \n",
    "\"The weather is {0}\".format(weather), \n",
    "\"It's {0} today\".format(weather), \n",
    "\"Let me check, it looks {0} today\".format(weather) ],\n",
    "    \n",
    "\"Are you a robot?\": [ \n",
    "\"What do you think?\", \n",
    "\"Maybe yes, maybe no!\", \n",
    "\"Yes, I am a robot with human feelings.\" ],\n",
    "    \n",
    "\"how are you?\": [ \n",
    "\"I am feeling {0}\".format(mood), \n",
    "\"{0}! How about you?\".format(mood), \n",
    "\"I am {0}! How about yourself?\".format(mood) ],\n",
    "    \n",
    "\"\": [ \n",
    "\"I'm not sure I understand. Please try again\", \n",
    "\"Pardon me. Please try to rephrase your question.\", \n",
    "\"Please try again. Thank you for your patience.\" ],\n",
    "    \n",
    "\"hello\": [\n",
    "\"Hello!\"], \n",
    "\n",
    "\"thanks\": [\n",
    "\"Your welcome!\"] ,\n",
    "\n",
    "\"nice to meet you\": [\n",
    "\"Nice to meet you too!\"]\n",
    "}"
   ]
  },
  {
   "cell_type": "code",
   "execution_count": 5,
   "id": "763802b1",
   "metadata": {},
   "outputs": [],
   "source": [
    "def respond(message):\n",
    "    if message in responses: \n",
    "        bot_message = random.choice(responses[message])\n",
    "    else: \n",
    "        bot_message = random.choice(responses[\"default\"])\n",
    "        \n",
    "    return bot_message"
   ]
  },
  {
   "cell_type": "code",
   "execution_count": 6,
   "id": "4eaf04a4",
   "metadata": {},
   "outputs": [],
   "source": [
    "def related(x_text): \n",
    "    if \"name\" in x_text: \n",
    "        y_text = \"what's your name?\"\n",
    "    elif \"weather\" in x_text: \n",
    "        y_text = \"what's today's weather?\"\n",
    "    elif \"robot\" in x_text: \n",
    "        y_text = \"Are you a robot?\"\n",
    "    elif \"how are\" in x_text: \n",
    "        y_text = \"how are you?\"\n",
    "    elif \"hello\" in x_text:\n",
    "        y_text = \"hello\"\n",
    "    elif \"thanks\" in x_text:\n",
    "        y_text = \"thanks\"\n",
    "    elif \"meet\" in x_text:\n",
    "        y_text = \"nice to meet you\"\n",
    "    else: \n",
    "        y_text = \"\"\n",
    "    return y_text"
   ]
  },
  {
   "cell_type": "code",
   "execution_count": 7,
   "id": "014e1a18",
   "metadata": {},
   "outputs": [],
   "source": [
    "def send_message(message): \n",
    "  print(user_template.format(message)) \n",
    "  response = respond(message) \n",
    "  print(bot_template.format(response))"
   ]
  },
  {
   "cell_type": "code",
   "execution_count": null,
   "id": "ea5b58e0",
   "metadata": {},
   "outputs": [
    {
     "name": "stdout",
     "output_type": "stream",
     "text": [
      "Hello! :)\n",
      "Alyssa : hello\n",
      "BOT : Hello!\n",
      "Nice to meet you!\n",
      "Alyssa : nice to meet you\n",
      "BOT : Nice to meet you too!\n",
      "Hi bot, what's your name\n",
      "Alyssa : what's your name?\n",
      "BOT : They call me Bot 101\n",
      "Nice! What's the weather like today?\n",
      "Alyssa : what's today's weather?\n",
      "BOT : Let me check, it looks rainy today\n",
      "Thanks!\n",
      "Alyssa : thanks\n",
      "BOT : Your welcome!\n",
      "How are you today?\n",
      "Alyssa : how are you?\n",
      "BOT : Happy! How about you?\n",
      "I'm great too. Just wondering, are you really a robot?\n",
      "Alyssa : Are you a robot?\n",
      "BOT : Maybe yes, maybe no!\n",
      "Ok well thanks for your help!\n",
      "Alyssa : thanks\n",
      "BOT : Your welcome!\n"
     ]
    }
   ],
   "source": [
    "while 1: \n",
    "    my_input = input() \n",
    "    my_input = my_input.lower() \n",
    "    related_text = related(my_input) \n",
    "    send_message(related_text)\n",
    "    if my_input == \"exit\" or my_input == \"stop\": \n",
    "        break"
   ]
  },
  {
   "cell_type": "code",
   "execution_count": null,
   "id": "63e659c0",
   "metadata": {},
   "outputs": [],
   "source": []
  }
 ],
 "metadata": {
  "kernelspec": {
   "display_name": "Python 3",
   "language": "python",
   "name": "python3"
  },
  "language_info": {
   "codemirror_mode": {
    "name": "ipython",
    "version": 3
   },
   "file_extension": ".py",
   "mimetype": "text/x-python",
   "name": "python",
   "nbconvert_exporter": "python",
   "pygments_lexer": "ipython3",
   "version": "3.8.8"
  }
 },
 "nbformat": 4,
 "nbformat_minor": 5
}
