{
  "nbformat": 4,
  "nbformat_minor": 0,
  "metadata": {
    "colab": {
      "name": "Predicting_House_Prices.ipynb",
      "provenance": [],
      "collapsed_sections": [],
      "authorship_tag": "ABX9TyOdipmljswVoNOmSdPOFfqx",
      "include_colab_link": true
    },
    "kernelspec": {
      "name": "python3",
      "display_name": "Python 3"
    },
    "language_info": {
      "name": "python"
    }
  },
  "cells": [
    {
      "cell_type": "markdown",
      "metadata": {
        "id": "view-in-github",
        "colab_type": "text"
      },
      "source": [
        "<a href=\"https://colab.research.google.com/github/AlyssaTang/FutureMakers/blob/main/Predicting_House_Prices.ipynb\" target=\"_parent\"><img src=\"https://colab.research.google.com/assets/colab-badge.svg\" alt=\"Open In Colab\"/></a>"
      ]
    },
    {
      "cell_type": "code",
      "metadata": {
        "id": "xqAcZTiFnE_5"
      },
      "source": [
        "#Predict house prices using a simple feed-forward neural network model"
      ],
      "execution_count": null,
      "outputs": []
    },
    {
      "cell_type": "code",
      "metadata": {
        "colab": {
          "resources": {
            "http://localhost:8080/nbextensions/google.colab/files.js": {
              "data": "Ly8gQ29weXJpZ2h0IDIwMTcgR29vZ2xlIExMQwovLwovLyBMaWNlbnNlZCB1bmRlciB0aGUgQXBhY2hlIExpY2Vuc2UsIFZlcnNpb24gMi4wICh0aGUgIkxpY2Vuc2UiKTsKLy8geW91IG1heSBub3QgdXNlIHRoaXMgZmlsZSBleGNlcHQgaW4gY29tcGxpYW5jZSB3aXRoIHRoZSBMaWNlbnNlLgovLyBZb3UgbWF5IG9idGFpbiBhIGNvcHkgb2YgdGhlIExpY2Vuc2UgYXQKLy8KLy8gICAgICBodHRwOi8vd3d3LmFwYWNoZS5vcmcvbGljZW5zZXMvTElDRU5TRS0yLjAKLy8KLy8gVW5sZXNzIHJlcXVpcmVkIGJ5IGFwcGxpY2FibGUgbGF3IG9yIGFncmVlZCB0byBpbiB3cml0aW5nLCBzb2Z0d2FyZQovLyBkaXN0cmlidXRlZCB1bmRlciB0aGUgTGljZW5zZSBpcyBkaXN0cmlidXRlZCBvbiBhbiAiQVMgSVMiIEJBU0lTLAovLyBXSVRIT1VUIFdBUlJBTlRJRVMgT1IgQ09ORElUSU9OUyBPRiBBTlkgS0lORCwgZWl0aGVyIGV4cHJlc3Mgb3IgaW1wbGllZC4KLy8gU2VlIHRoZSBMaWNlbnNlIGZvciB0aGUgc3BlY2lmaWMgbGFuZ3VhZ2UgZ292ZXJuaW5nIHBlcm1pc3Npb25zIGFuZAovLyBsaW1pdGF0aW9ucyB1bmRlciB0aGUgTGljZW5zZS4KCi8qKgogKiBAZmlsZW92ZXJ2aWV3IEhlbHBlcnMgZm9yIGdvb2dsZS5jb2xhYiBQeXRob24gbW9kdWxlLgogKi8KKGZ1bmN0aW9uKHNjb3BlKSB7CmZ1bmN0aW9uIHNwYW4odGV4dCwgc3R5bGVBdHRyaWJ1dGVzID0ge30pIHsKICBjb25zdCBlbGVtZW50ID0gZG9jdW1lbnQuY3JlYXRlRWxlbWVudCgnc3BhbicpOwogIGVsZW1lbnQudGV4dENvbnRlbnQgPSB0ZXh0OwogIGZvciAoY29uc3Qga2V5IG9mIE9iamVjdC5rZXlzKHN0eWxlQXR0cmlidXRlcykpIHsKICAgIGVsZW1lbnQuc3R5bGVba2V5XSA9IHN0eWxlQXR0cmlidXRlc1trZXldOwogIH0KICByZXR1cm4gZWxlbWVudDsKfQoKLy8gTWF4IG51bWJlciBvZiBieXRlcyB3aGljaCB3aWxsIGJlIHVwbG9hZGVkIGF0IGEgdGltZS4KY29uc3QgTUFYX1BBWUxPQURfU0laRSA9IDEwMCAqIDEwMjQ7CgpmdW5jdGlvbiBfdXBsb2FkRmlsZXMoaW5wdXRJZCwgb3V0cHV0SWQpIHsKICBjb25zdCBzdGVwcyA9IHVwbG9hZEZpbGVzU3RlcChpbnB1dElkLCBvdXRwdXRJZCk7CiAgY29uc3Qgb3V0cHV0RWxlbWVudCA9IGRvY3VtZW50LmdldEVsZW1lbnRCeUlkKG91dHB1dElkKTsKICAvLyBDYWNoZSBzdGVwcyBvbiB0aGUgb3V0cHV0RWxlbWVudCB0byBtYWtlIGl0IGF2YWlsYWJsZSBmb3IgdGhlIG5leHQgY2FsbAogIC8vIHRvIHVwbG9hZEZpbGVzQ29udGludWUgZnJvbSBQeXRob24uCiAgb3V0cHV0RWxlbWVudC5zdGVwcyA9IHN0ZXBzOwoKICByZXR1cm4gX3VwbG9hZEZpbGVzQ29udGludWUob3V0cHV0SWQpOwp9CgovLyBUaGlzIGlzIHJvdWdobHkgYW4gYXN5bmMgZ2VuZXJhdG9yIChub3Qgc3VwcG9ydGVkIGluIHRoZSBicm93c2VyIHlldCksCi8vIHdoZXJlIHRoZXJlIGFyZSBtdWx0aXBsZSBhc3luY2hyb25vdXMgc3RlcHMgYW5kIHRoZSBQeXRob24gc2lkZSBpcyBnb2luZwovLyB0byBwb2xsIGZvciBjb21wbGV0aW9uIG9mIGVhY2ggc3RlcC4KLy8gVGhpcyB1c2VzIGEgUHJvbWlzZSB0byBibG9jayB0aGUgcHl0aG9uIHNpZGUgb24gY29tcGxldGlvbiBvZiBlYWNoIHN0ZXAsCi8vIHRoZW4gcGFzc2VzIHRoZSByZXN1bHQgb2YgdGhlIHByZXZpb3VzIHN0ZXAgYXMgdGhlIGlucHV0IHRvIHRoZSBuZXh0IHN0ZXAuCmZ1bmN0aW9uIF91cGxvYWRGaWxlc0NvbnRpbnVlKG91dHB1dElkKSB7CiAgY29uc3Qgb3V0cHV0RWxlbWVudCA9IGRvY3VtZW50LmdldEVsZW1lbnRCeUlkKG91dHB1dElkKTsKICBjb25zdCBzdGVwcyA9IG91dHB1dEVsZW1lbnQuc3RlcHM7CgogIGNvbnN0IG5leHQgPSBzdGVwcy5uZXh0KG91dHB1dEVsZW1lbnQubGFzdFByb21pc2VWYWx1ZSk7CiAgcmV0dXJuIFByb21pc2UucmVzb2x2ZShuZXh0LnZhbHVlLnByb21pc2UpLnRoZW4oKHZhbHVlKSA9PiB7CiAgICAvLyBDYWNoZSB0aGUgbGFzdCBwcm9taXNlIHZhbHVlIHRvIG1ha2UgaXQgYXZhaWxhYmxlIHRvIHRoZSBuZXh0CiAgICAvLyBzdGVwIG9mIHRoZSBnZW5lcmF0b3IuCiAgICBvdXRwdXRFbGVtZW50Lmxhc3RQcm9taXNlVmFsdWUgPSB2YWx1ZTsKICAgIHJldHVybiBuZXh0LnZhbHVlLnJlc3BvbnNlOwogIH0pOwp9CgovKioKICogR2VuZXJhdG9yIGZ1bmN0aW9uIHdoaWNoIGlzIGNhbGxlZCBiZXR3ZWVuIGVhY2ggYXN5bmMgc3RlcCBvZiB0aGUgdXBsb2FkCiAqIHByb2Nlc3MuCiAqIEBwYXJhbSB7c3RyaW5nfSBpbnB1dElkIEVsZW1lbnQgSUQgb2YgdGhlIGlucHV0IGZpbGUgcGlja2VyIGVsZW1lbnQuCiAqIEBwYXJhbSB7c3RyaW5nfSBvdXRwdXRJZCBFbGVtZW50IElEIG9mIHRoZSBvdXRwdXQgZGlzcGxheS4KICogQHJldHVybiB7IUl0ZXJhYmxlPCFPYmplY3Q+fSBJdGVyYWJsZSBvZiBuZXh0IHN0ZXBzLgogKi8KZnVuY3Rpb24qIHVwbG9hZEZpbGVzU3RlcChpbnB1dElkLCBvdXRwdXRJZCkgewogIGNvbnN0IGlucHV0RWxlbWVudCA9IGRvY3VtZW50LmdldEVsZW1lbnRCeUlkKGlucHV0SWQpOwogIGlucHV0RWxlbWVudC5kaXNhYmxlZCA9IGZhbHNlOwoKICBjb25zdCBvdXRwdXRFbGVtZW50ID0gZG9jdW1lbnQuZ2V0RWxlbWVudEJ5SWQob3V0cHV0SWQpOwogIG91dHB1dEVsZW1lbnQuaW5uZXJIVE1MID0gJyc7CgogIGNvbnN0IHBpY2tlZFByb21pc2UgPSBuZXcgUHJvbWlzZSgocmVzb2x2ZSkgPT4gewogICAgaW5wdXRFbGVtZW50LmFkZEV2ZW50TGlzdGVuZXIoJ2NoYW5nZScsIChlKSA9PiB7CiAgICAgIHJlc29sdmUoZS50YXJnZXQuZmlsZXMpOwogICAgfSk7CiAgfSk7CgogIGNvbnN0IGNhbmNlbCA9IGRvY3VtZW50LmNyZWF0ZUVsZW1lbnQoJ2J1dHRvbicpOwogIGlucHV0RWxlbWVudC5wYXJlbnRFbGVtZW50LmFwcGVuZENoaWxkKGNhbmNlbCk7CiAgY2FuY2VsLnRleHRDb250ZW50ID0gJ0NhbmNlbCB1cGxvYWQnOwogIGNvbnN0IGNhbmNlbFByb21pc2UgPSBuZXcgUHJvbWlzZSgocmVzb2x2ZSkgPT4gewogICAgY2FuY2VsLm9uY2xpY2sgPSAoKSA9PiB7CiAgICAgIHJlc29sdmUobnVsbCk7CiAgICB9OwogIH0pOwoKICAvLyBXYWl0IGZvciB0aGUgdXNlciB0byBwaWNrIHRoZSBmaWxlcy4KICBjb25zdCBmaWxlcyA9IHlpZWxkIHsKICAgIHByb21pc2U6IFByb21pc2UucmFjZShbcGlja2VkUHJvbWlzZSwgY2FuY2VsUHJvbWlzZV0pLAogICAgcmVzcG9uc2U6IHsKICAgICAgYWN0aW9uOiAnc3RhcnRpbmcnLAogICAgfQogIH07CgogIGNhbmNlbC5yZW1vdmUoKTsKCiAgLy8gRGlzYWJsZSB0aGUgaW5wdXQgZWxlbWVudCBzaW5jZSBmdXJ0aGVyIHBpY2tzIGFyZSBub3QgYWxsb3dlZC4KICBpbnB1dEVsZW1lbnQuZGlzYWJsZWQgPSB0cnVlOwoKICBpZiAoIWZpbGVzKSB7CiAgICByZXR1cm4gewogICAgICByZXNwb25zZTogewogICAgICAgIGFjdGlvbjogJ2NvbXBsZXRlJywKICAgICAgfQogICAgfTsKICB9CgogIGZvciAoY29uc3QgZmlsZSBvZiBmaWxlcykgewogICAgY29uc3QgbGkgPSBkb2N1bWVudC5jcmVhdGVFbGVtZW50KCdsaScpOwogICAgbGkuYXBwZW5kKHNwYW4oZmlsZS5uYW1lLCB7Zm9udFdlaWdodDogJ2JvbGQnfSkpOwogICAgbGkuYXBwZW5kKHNwYW4oCiAgICAgICAgYCgke2ZpbGUudHlwZSB8fCAnbi9hJ30pIC0gJHtmaWxlLnNpemV9IGJ5dGVzLCBgICsKICAgICAgICBgbGFzdCBtb2RpZmllZDogJHsKICAgICAgICAgICAgZmlsZS5sYXN0TW9kaWZpZWREYXRlID8gZmlsZS5sYXN0TW9kaWZpZWREYXRlLnRvTG9jYWxlRGF0ZVN0cmluZygpIDoKICAgICAgICAgICAgICAgICAgICAgICAgICAgICAgICAgICAgJ24vYSd9IC0gYCkpOwogICAgY29uc3QgcGVyY2VudCA9IHNwYW4oJzAlIGRvbmUnKTsKICAgIGxpLmFwcGVuZENoaWxkKHBlcmNlbnQpOwoKICAgIG91dHB1dEVsZW1lbnQuYXBwZW5kQ2hpbGQobGkpOwoKICAgIGNvbnN0IGZpbGVEYXRhUHJvbWlzZSA9IG5ldyBQcm9taXNlKChyZXNvbHZlKSA9PiB7CiAgICAgIGNvbnN0IHJlYWRlciA9IG5ldyBGaWxlUmVhZGVyKCk7CiAgICAgIHJlYWRlci5vbmxvYWQgPSAoZSkgPT4gewogICAgICAgIHJlc29sdmUoZS50YXJnZXQucmVzdWx0KTsKICAgICAgfTsKICAgICAgcmVhZGVyLnJlYWRBc0FycmF5QnVmZmVyKGZpbGUpOwogICAgfSk7CiAgICAvLyBXYWl0IGZvciB0aGUgZGF0YSB0byBiZSByZWFkeS4KICAgIGxldCBmaWxlRGF0YSA9IHlpZWxkIHsKICAgICAgcHJvbWlzZTogZmlsZURhdGFQcm9taXNlLAogICAgICByZXNwb25zZTogewogICAgICAgIGFjdGlvbjogJ2NvbnRpbnVlJywKICAgICAgfQogICAgfTsKCiAgICAvLyBVc2UgYSBjaHVua2VkIHNlbmRpbmcgdG8gYXZvaWQgbWVzc2FnZSBzaXplIGxpbWl0cy4gU2VlIGIvNjIxMTU2NjAuCiAgICBsZXQgcG9zaXRpb24gPSAwOwogICAgZG8gewogICAgICBjb25zdCBsZW5ndGggPSBNYXRoLm1pbihmaWxlRGF0YS5ieXRlTGVuZ3RoIC0gcG9zaXRpb24sIE1BWF9QQVlMT0FEX1NJWkUpOwogICAgICBjb25zdCBjaHVuayA9IG5ldyBVaW50OEFycmF5KGZpbGVEYXRhLCBwb3NpdGlvbiwgbGVuZ3RoKTsKICAgICAgcG9zaXRpb24gKz0gbGVuZ3RoOwoKICAgICAgY29uc3QgYmFzZTY0ID0gYnRvYShTdHJpbmcuZnJvbUNoYXJDb2RlLmFwcGx5KG51bGwsIGNodW5rKSk7CiAgICAgIHlpZWxkIHsKICAgICAgICByZXNwb25zZTogewogICAgICAgICAgYWN0aW9uOiAnYXBwZW5kJywKICAgICAgICAgIGZpbGU6IGZpbGUubmFtZSwKICAgICAgICAgIGRhdGE6IGJhc2U2NCwKICAgICAgICB9LAogICAgICB9OwoKICAgICAgbGV0IHBlcmNlbnREb25lID0gZmlsZURhdGEuYnl0ZUxlbmd0aCA9PT0gMCA/CiAgICAgICAgICAxMDAgOgogICAgICAgICAgTWF0aC5yb3VuZCgocG9zaXRpb24gLyBmaWxlRGF0YS5ieXRlTGVuZ3RoKSAqIDEwMCk7CiAgICAgIHBlcmNlbnQudGV4dENvbnRlbnQgPSBgJHtwZXJjZW50RG9uZX0lIGRvbmVgOwoKICAgIH0gd2hpbGUgKHBvc2l0aW9uIDwgZmlsZURhdGEuYnl0ZUxlbmd0aCk7CiAgfQoKICAvLyBBbGwgZG9uZS4KICB5aWVsZCB7CiAgICByZXNwb25zZTogewogICAgICBhY3Rpb246ICdjb21wbGV0ZScsCiAgICB9CiAgfTsKfQoKc2NvcGUuZ29vZ2xlID0gc2NvcGUuZ29vZ2xlIHx8IHt9OwpzY29wZS5nb29nbGUuY29sYWIgPSBzY29wZS5nb29nbGUuY29sYWIgfHwge307CnNjb3BlLmdvb2dsZS5jb2xhYi5fZmlsZXMgPSB7CiAgX3VwbG9hZEZpbGVzLAogIF91cGxvYWRGaWxlc0NvbnRpbnVlLAp9Owp9KShzZWxmKTsK",
              "ok": true,
              "headers": [
                [
                  "content-type",
                  "application/javascript"
                ]
              ],
              "status": 200,
              "status_text": ""
            }
          },
          "base_uri": "https://localhost:8080/",
          "height": 72
        },
        "id": "_sDeC5czni0Z",
        "outputId": "916598e6-107d-4288-ecbe-145ece6fe284"
      },
      "source": [
        "import pandas as pd\n",
        "\n",
        "from google.colab import files\n",
        "uploaded = files.upload()"
      ],
      "execution_count": 3,
      "outputs": [
        {
          "output_type": "display_data",
          "data": {
            "text/html": [
              "\n",
              "     <input type=\"file\" id=\"files-41c9e5e0-3377-44bf-9788-f805471cb141\" name=\"files[]\" multiple disabled\n",
              "        style=\"border:none\" />\n",
              "     <output id=\"result-41c9e5e0-3377-44bf-9788-f805471cb141\">\n",
              "      Upload widget is only available when the cell has been executed in the\n",
              "      current browser session. Please rerun this cell to enable.\n",
              "      </output>\n",
              "      <script src=\"/nbextensions/google.colab/files.js\"></script> "
            ],
            "text/plain": [
              "<IPython.core.display.HTML object>"
            ]
          },
          "metadata": {
            "tags": []
          }
        },
        {
          "output_type": "stream",
          "text": [
            "Saving housepricedata.csv to housepricedata.csv\n"
          ],
          "name": "stdout"
        }
      ]
    },
    {
      "cell_type": "code",
      "metadata": {
        "id": "6o2kfHsLoXE8"
      },
      "source": [
        "import io\n",
        "# df = pd.read_csv('housepricedata.csv')\n",
        "df = pd.read_csv(io.BytesIO(uploaded['housepricedata.csv']))"
      ],
      "execution_count": 5,
      "outputs": []
    },
    {
      "cell_type": "code",
      "metadata": {
        "colab": {
          "base_uri": "https://localhost:8080/",
          "height": 419
        },
        "id": "gt032iq0n7Px",
        "outputId": "1649b161-41ae-4977-85ef-76b5aca89be9"
      },
      "source": [
        "df"
      ],
      "execution_count": 6,
      "outputs": [
        {
          "output_type": "execute_result",
          "data": {
            "text/html": [
              "<div>\n",
              "<style scoped>\n",
              "    .dataframe tbody tr th:only-of-type {\n",
              "        vertical-align: middle;\n",
              "    }\n",
              "\n",
              "    .dataframe tbody tr th {\n",
              "        vertical-align: top;\n",
              "    }\n",
              "\n",
              "    .dataframe thead th {\n",
              "        text-align: right;\n",
              "    }\n",
              "</style>\n",
              "<table border=\"1\" class=\"dataframe\">\n",
              "  <thead>\n",
              "    <tr style=\"text-align: right;\">\n",
              "      <th></th>\n",
              "      <th>LotArea</th>\n",
              "      <th>OverallQual</th>\n",
              "      <th>OverallCond</th>\n",
              "      <th>TotalBsmtSF</th>\n",
              "      <th>FullBath</th>\n",
              "      <th>HalfBath</th>\n",
              "      <th>BedroomAbvGr</th>\n",
              "      <th>TotRmsAbvGrd</th>\n",
              "      <th>Fireplaces</th>\n",
              "      <th>GarageArea</th>\n",
              "      <th>AboveMedianPrice</th>\n",
              "    </tr>\n",
              "  </thead>\n",
              "  <tbody>\n",
              "    <tr>\n",
              "      <th>0</th>\n",
              "      <td>8450</td>\n",
              "      <td>7</td>\n",
              "      <td>5</td>\n",
              "      <td>856</td>\n",
              "      <td>2</td>\n",
              "      <td>1</td>\n",
              "      <td>3</td>\n",
              "      <td>8</td>\n",
              "      <td>0</td>\n",
              "      <td>548</td>\n",
              "      <td>1</td>\n",
              "    </tr>\n",
              "    <tr>\n",
              "      <th>1</th>\n",
              "      <td>9600</td>\n",
              "      <td>6</td>\n",
              "      <td>8</td>\n",
              "      <td>1262</td>\n",
              "      <td>2</td>\n",
              "      <td>0</td>\n",
              "      <td>3</td>\n",
              "      <td>6</td>\n",
              "      <td>1</td>\n",
              "      <td>460</td>\n",
              "      <td>1</td>\n",
              "    </tr>\n",
              "    <tr>\n",
              "      <th>2</th>\n",
              "      <td>11250</td>\n",
              "      <td>7</td>\n",
              "      <td>5</td>\n",
              "      <td>920</td>\n",
              "      <td>2</td>\n",
              "      <td>1</td>\n",
              "      <td>3</td>\n",
              "      <td>6</td>\n",
              "      <td>1</td>\n",
              "      <td>608</td>\n",
              "      <td>1</td>\n",
              "    </tr>\n",
              "    <tr>\n",
              "      <th>3</th>\n",
              "      <td>9550</td>\n",
              "      <td>7</td>\n",
              "      <td>5</td>\n",
              "      <td>756</td>\n",
              "      <td>1</td>\n",
              "      <td>0</td>\n",
              "      <td>3</td>\n",
              "      <td>7</td>\n",
              "      <td>1</td>\n",
              "      <td>642</td>\n",
              "      <td>0</td>\n",
              "    </tr>\n",
              "    <tr>\n",
              "      <th>4</th>\n",
              "      <td>14260</td>\n",
              "      <td>8</td>\n",
              "      <td>5</td>\n",
              "      <td>1145</td>\n",
              "      <td>2</td>\n",
              "      <td>1</td>\n",
              "      <td>4</td>\n",
              "      <td>9</td>\n",
              "      <td>1</td>\n",
              "      <td>836</td>\n",
              "      <td>1</td>\n",
              "    </tr>\n",
              "    <tr>\n",
              "      <th>...</th>\n",
              "      <td>...</td>\n",
              "      <td>...</td>\n",
              "      <td>...</td>\n",
              "      <td>...</td>\n",
              "      <td>...</td>\n",
              "      <td>...</td>\n",
              "      <td>...</td>\n",
              "      <td>...</td>\n",
              "      <td>...</td>\n",
              "      <td>...</td>\n",
              "      <td>...</td>\n",
              "    </tr>\n",
              "    <tr>\n",
              "      <th>1455</th>\n",
              "      <td>7917</td>\n",
              "      <td>6</td>\n",
              "      <td>5</td>\n",
              "      <td>953</td>\n",
              "      <td>2</td>\n",
              "      <td>1</td>\n",
              "      <td>3</td>\n",
              "      <td>7</td>\n",
              "      <td>1</td>\n",
              "      <td>460</td>\n",
              "      <td>1</td>\n",
              "    </tr>\n",
              "    <tr>\n",
              "      <th>1456</th>\n",
              "      <td>13175</td>\n",
              "      <td>6</td>\n",
              "      <td>6</td>\n",
              "      <td>1542</td>\n",
              "      <td>2</td>\n",
              "      <td>0</td>\n",
              "      <td>3</td>\n",
              "      <td>7</td>\n",
              "      <td>2</td>\n",
              "      <td>500</td>\n",
              "      <td>1</td>\n",
              "    </tr>\n",
              "    <tr>\n",
              "      <th>1457</th>\n",
              "      <td>9042</td>\n",
              "      <td>7</td>\n",
              "      <td>9</td>\n",
              "      <td>1152</td>\n",
              "      <td>2</td>\n",
              "      <td>0</td>\n",
              "      <td>4</td>\n",
              "      <td>9</td>\n",
              "      <td>2</td>\n",
              "      <td>252</td>\n",
              "      <td>1</td>\n",
              "    </tr>\n",
              "    <tr>\n",
              "      <th>1458</th>\n",
              "      <td>9717</td>\n",
              "      <td>5</td>\n",
              "      <td>6</td>\n",
              "      <td>1078</td>\n",
              "      <td>1</td>\n",
              "      <td>0</td>\n",
              "      <td>2</td>\n",
              "      <td>5</td>\n",
              "      <td>0</td>\n",
              "      <td>240</td>\n",
              "      <td>0</td>\n",
              "    </tr>\n",
              "    <tr>\n",
              "      <th>1459</th>\n",
              "      <td>9937</td>\n",
              "      <td>5</td>\n",
              "      <td>6</td>\n",
              "      <td>1256</td>\n",
              "      <td>1</td>\n",
              "      <td>1</td>\n",
              "      <td>3</td>\n",
              "      <td>6</td>\n",
              "      <td>0</td>\n",
              "      <td>276</td>\n",
              "      <td>0</td>\n",
              "    </tr>\n",
              "  </tbody>\n",
              "</table>\n",
              "<p>1460 rows × 11 columns</p>\n",
              "</div>"
            ],
            "text/plain": [
              "      LotArea  OverallQual  ...  GarageArea  AboveMedianPrice\n",
              "0        8450            7  ...         548                 1\n",
              "1        9600            6  ...         460                 1\n",
              "2       11250            7  ...         608                 1\n",
              "3        9550            7  ...         642                 0\n",
              "4       14260            8  ...         836                 1\n",
              "...       ...          ...  ...         ...               ...\n",
              "1455     7917            6  ...         460                 1\n",
              "1456    13175            6  ...         500                 1\n",
              "1457     9042            7  ...         252                 1\n",
              "1458     9717            5  ...         240                 0\n",
              "1459     9937            5  ...         276                 0\n",
              "\n",
              "[1460 rows x 11 columns]"
            ]
          },
          "metadata": {
            "tags": []
          },
          "execution_count": 6
        }
      ]
    },
    {
      "cell_type": "markdown",
      "metadata": {
        "id": "VGk3Ri9Qpr9s"
      },
      "source": [
        "# Preproccessing"
      ]
    },
    {
      "cell_type": "markdown",
      "metadata": {
        "id": "8hLTZeHuqS43"
      },
      "source": [
        "- Read in the CSV (comma separated values) file and convert them to arrays.\n",
        "- Split our dataset into the input features and the label.\n",
        "- Scale the data so that the input features have similar orders of magnitude.\n",
        "- Split our dataset into the training set, the validation set and the test set."
      ]
    },
    {
      "cell_type": "code",
      "metadata": {
        "id": "YPWcnDeUoh_k"
      },
      "source": [
        "#store values of df into varialbe dataset (to convert dataframe into an array)\n",
        "dataset = df.values"
      ],
      "execution_count": 7,
      "outputs": []
    },
    {
      "cell_type": "code",
      "metadata": {
        "colab": {
          "base_uri": "https://localhost:8080/"
        },
        "id": "_-UCdXeNougV",
        "outputId": "0bcecb98-5d21-4620-c9c5-29e25c3c932b"
      },
      "source": [
        "dataset"
      ],
      "execution_count": 8,
      "outputs": [
        {
          "output_type": "execute_result",
          "data": {
            "text/plain": [
              "array([[ 8450,     7,     5, ...,     0,   548,     1],\n",
              "       [ 9600,     6,     8, ...,     1,   460,     1],\n",
              "       [11250,     7,     5, ...,     1,   608,     1],\n",
              "       ...,\n",
              "       [ 9042,     7,     9, ...,     2,   252,     1],\n",
              "       [ 9717,     5,     6, ...,     0,   240,     0],\n",
              "       [ 9937,     5,     6, ...,     0,   276,     0]])"
            ]
          },
          "metadata": {
            "tags": []
          },
          "execution_count": 8
        }
      ]
    },
    {
      "cell_type": "code",
      "metadata": {
        "id": "Sk4apuNGowBb"
      },
      "source": [
        "#X = all the rows for the first 10 columns (columns 0-9)\n",
        "X = dataset[:,0:10]"
      ],
      "execution_count": 9,
      "outputs": []
    },
    {
      "cell_type": "code",
      "metadata": {
        "id": "lAvpcSiWpJc_"
      },
      "source": [
        "#Y= last column of our array\n",
        "Y = dataset[:,10]"
      ],
      "execution_count": 10,
      "outputs": []
    },
    {
      "cell_type": "code",
      "metadata": {
        "id": "KGdWBedjpWrm"
      },
      "source": [
        "from sklearn import preprocessing"
      ],
      "execution_count": 13,
      "outputs": []
    },
    {
      "cell_type": "code",
      "metadata": {
        "id": "y1HwhHlkpc_3"
      },
      "source": [
        "min_max_scaler = preprocessing.MinMaxScaler()\n",
        "X_scale = min_max_scaler.fit_transform(X) #scales dataset so all input features like between [0,1]"
      ],
      "execution_count": 12,
      "outputs": []
    },
    {
      "cell_type": "code",
      "metadata": {
        "colab": {
          "base_uri": "https://localhost:8080/"
        },
        "id": "6n0EAbhrpmSr",
        "outputId": "e5274f1b-e95b-4634-f1ec-1dfad7c492ec"
      },
      "source": [
        "X_scale"
      ],
      "execution_count": 14,
      "outputs": [
        {
          "output_type": "execute_result",
          "data": {
            "text/plain": [
              "array([[0.0334198 , 0.66666667, 0.5       , ..., 0.5       , 0.        ,\n",
              "        0.3864598 ],\n",
              "       [0.03879502, 0.55555556, 0.875     , ..., 0.33333333, 0.33333333,\n",
              "        0.32440056],\n",
              "       [0.04650728, 0.66666667, 0.5       , ..., 0.33333333, 0.33333333,\n",
              "        0.42877292],\n",
              "       ...,\n",
              "       [0.03618687, 0.66666667, 1.        , ..., 0.58333333, 0.66666667,\n",
              "        0.17771509],\n",
              "       [0.03934189, 0.44444444, 0.625     , ..., 0.25      , 0.        ,\n",
              "        0.16925247],\n",
              "       [0.04037019, 0.44444444, 0.625     , ..., 0.33333333, 0.        ,\n",
              "        0.19464034]])"
            ]
          },
          "metadata": {
            "tags": []
          },
          "execution_count": 14
        }
      ]
    },
    {
      "cell_type": "code",
      "metadata": {
        "id": "w3UE17vtppAr"
      },
      "source": [
        "from sklearn.model_selection import train_test_split"
      ],
      "execution_count": 15,
      "outputs": []
    },
    {
      "cell_type": "code",
      "metadata": {
        "id": "LicGVokvpv1z"
      },
      "source": [
        "X_train, X_val_and_test, Y_train, Y_val_and_test = train_test_split(X_scale, Y, test_size=0.3)"
      ],
      "execution_count": 16,
      "outputs": []
    },
    {
      "cell_type": "code",
      "metadata": {
        "id": "QjFaBm8Gpxr6"
      },
      "source": [
        "X_val, X_test, Y_val, Y_test = train_test_split(X_val_and_test, Y_val_and_test, test_size=0.5)"
      ],
      "execution_count": 17,
      "outputs": []
    },
    {
      "cell_type": "code",
      "metadata": {
        "id": "9-56DCh6qIHi"
      },
      "source": [
        "# X_train (10 input features, 70% of full dataset)\n",
        "# X_val (10 input features, 15% of full dataset)\n",
        "# X_test (10 input features, 15% of full dataset)\n",
        "# Y_train (1 label, 70% of full dataset)\n",
        "# Y_val (1 label, 15% of full dataset)\n",
        "# Y_test (1 label, 15% of full dataset)"
      ],
      "execution_count": null,
      "outputs": []
    },
    {
      "cell_type": "code",
      "metadata": {
        "colab": {
          "base_uri": "https://localhost:8080/"
        },
        "id": "t71W1ttcqMJd",
        "outputId": "15b6178c-b3a3-4f02-a63a-a59ba179445a"
      },
      "source": [
        "print(X_train.shape, X_val.shape, X_test.shape, Y_train.shape, Y_val.shape, Y_test.shape)"
      ],
      "execution_count": 18,
      "outputs": [
        {
          "output_type": "stream",
          "text": [
            "(1022, 10) (219, 10) (219, 10) (1022,) (219,) (219,)\n"
          ],
          "name": "stdout"
        }
      ]
    },
    {
      "cell_type": "markdown",
      "metadata": {
        "id": "NKg9ODrBqb6y"
      },
      "source": [
        "# Building and Training the Neural Network (1)"
      ]
    },
    {
      "cell_type": "code",
      "metadata": {
        "id": "BDApki4cqfay"
      },
      "source": [
        "from keras.models import Sequential\n",
        "from keras.layers import Dense"
      ],
      "execution_count": 62,
      "outputs": []
    },
    {
      "cell_type": "code",
      "metadata": {
        "id": "oGAjp7bLqs8d"
      },
      "source": [
        "model_3 = Sequential([\n",
        "    Dense(32, activation='relu', input_shape=(10,)), #10 input features\n",
        "    Dense(32, activation='relu'), #fully-connected layer \n",
        "    Dense(1, activation='sigmoid'),\n",
        "])"
      ],
      "execution_count": 75,
      "outputs": []
    },
    {
      "cell_type": "code",
      "metadata": {
        "id": "hlCaua03qwNY"
      },
      "source": [
        "model_3.compile(optimizer='SGD',\n",
        "              loss='binary_crossentropy',\n",
        "              metrics=['accuracy'])"
      ],
      "execution_count": 76,
      "outputs": []
    },
    {
      "cell_type": "code",
      "metadata": {
        "colab": {
          "base_uri": "https://localhost:8080/"
        },
        "id": "hIO_FXTHrqq6",
        "outputId": "8263a4ee-b3cc-4aea-a22a-53044e228975"
      },
      "source": [
        "hist_3 = model_3.fit(X_train, Y_train,\n",
        "          batch_size=32, epochs=100,\n",
        "          validation_data=(X_val, Y_val))"
      ],
      "execution_count": 77,
      "outputs": [
        {
          "output_type": "stream",
          "text": [
            "Epoch 1/100\n",
            "32/32 [==============================] - 1s 11ms/step - loss: 0.6993 - accuracy: 0.4597 - val_loss: 0.6906 - val_accuracy: 0.6073\n",
            "Epoch 2/100\n",
            "32/32 [==============================] - 0s 2ms/step - loss: 0.6882 - accuracy: 0.5898 - val_loss: 0.6824 - val_accuracy: 0.6895\n",
            "Epoch 3/100\n",
            "32/32 [==============================] - 0s 2ms/step - loss: 0.6797 - accuracy: 0.6878 - val_loss: 0.6761 - val_accuracy: 0.6530\n",
            "Epoch 4/100\n",
            "32/32 [==============================] - 0s 2ms/step - loss: 0.6739 - accuracy: 0.6616 - val_loss: 0.6711 - val_accuracy: 0.6667\n",
            "Epoch 5/100\n",
            "32/32 [==============================] - 0s 2ms/step - loss: 0.6687 - accuracy: 0.6932 - val_loss: 0.6664 - val_accuracy: 0.7032\n",
            "Epoch 6/100\n",
            "32/32 [==============================] - 0s 3ms/step - loss: 0.6671 - accuracy: 0.7379 - val_loss: 0.6618 - val_accuracy: 0.7078\n",
            "Epoch 7/100\n",
            "32/32 [==============================] - 0s 2ms/step - loss: 0.6588 - accuracy: 0.6725 - val_loss: 0.6573 - val_accuracy: 0.7352\n",
            "Epoch 8/100\n",
            "32/32 [==============================] - 0s 2ms/step - loss: 0.6516 - accuracy: 0.7356 - val_loss: 0.6527 - val_accuracy: 0.7443\n",
            "Epoch 9/100\n",
            "32/32 [==============================] - 0s 2ms/step - loss: 0.6476 - accuracy: 0.7642 - val_loss: 0.6479 - val_accuracy: 0.7626\n",
            "Epoch 10/100\n",
            "32/32 [==============================] - 0s 2ms/step - loss: 0.6452 - accuracy: 0.7831 - val_loss: 0.6428 - val_accuracy: 0.7717\n",
            "Epoch 11/100\n",
            "32/32 [==============================] - 0s 2ms/step - loss: 0.6367 - accuracy: 0.7968 - val_loss: 0.6376 - val_accuracy: 0.7763\n",
            "Epoch 12/100\n",
            "32/32 [==============================] - 0s 2ms/step - loss: 0.6350 - accuracy: 0.7919 - val_loss: 0.6322 - val_accuracy: 0.7900\n",
            "Epoch 13/100\n",
            "32/32 [==============================] - 0s 2ms/step - loss: 0.6277 - accuracy: 0.7921 - val_loss: 0.6266 - val_accuracy: 0.7991\n",
            "Epoch 14/100\n",
            "32/32 [==============================] - 0s 3ms/step - loss: 0.6256 - accuracy: 0.7937 - val_loss: 0.6206 - val_accuracy: 0.8128\n",
            "Epoch 15/100\n",
            "32/32 [==============================] - 0s 2ms/step - loss: 0.6179 - accuracy: 0.8095 - val_loss: 0.6144 - val_accuracy: 0.8174\n",
            "Epoch 16/100\n",
            "32/32 [==============================] - 0s 2ms/step - loss: 0.6107 - accuracy: 0.8183 - val_loss: 0.6079 - val_accuracy: 0.8219\n",
            "Epoch 17/100\n",
            "32/32 [==============================] - 0s 3ms/step - loss: 0.6075 - accuracy: 0.8217 - val_loss: 0.6010 - val_accuracy: 0.8265\n",
            "Epoch 18/100\n",
            "32/32 [==============================] - 0s 2ms/step - loss: 0.5939 - accuracy: 0.8319 - val_loss: 0.5939 - val_accuracy: 0.8356\n",
            "Epoch 19/100\n",
            "32/32 [==============================] - 0s 2ms/step - loss: 0.5935 - accuracy: 0.8307 - val_loss: 0.5863 - val_accuracy: 0.8356\n",
            "Epoch 20/100\n",
            "32/32 [==============================] - 0s 3ms/step - loss: 0.5745 - accuracy: 0.8419 - val_loss: 0.5785 - val_accuracy: 0.8356\n",
            "Epoch 21/100\n",
            "32/32 [==============================] - 0s 2ms/step - loss: 0.5757 - accuracy: 0.8419 - val_loss: 0.5702 - val_accuracy: 0.8356\n",
            "Epoch 22/100\n",
            "32/32 [==============================] - 0s 2ms/step - loss: 0.5664 - accuracy: 0.8254 - val_loss: 0.5620 - val_accuracy: 0.8402\n",
            "Epoch 23/100\n",
            "32/32 [==============================] - 0s 2ms/step - loss: 0.5577 - accuracy: 0.8470 - val_loss: 0.5532 - val_accuracy: 0.8447\n",
            "Epoch 24/100\n",
            "32/32 [==============================] - 0s 2ms/step - loss: 0.5467 - accuracy: 0.8571 - val_loss: 0.5443 - val_accuracy: 0.8447\n",
            "Epoch 25/100\n",
            "32/32 [==============================] - 0s 3ms/step - loss: 0.5374 - accuracy: 0.8643 - val_loss: 0.5349 - val_accuracy: 0.8493\n",
            "Epoch 26/100\n",
            "32/32 [==============================] - 0s 2ms/step - loss: 0.5273 - accuracy: 0.8512 - val_loss: 0.5254 - val_accuracy: 0.8447\n",
            "Epoch 27/100\n",
            "32/32 [==============================] - 0s 2ms/step - loss: 0.5195 - accuracy: 0.8662 - val_loss: 0.5159 - val_accuracy: 0.8493\n",
            "Epoch 28/100\n",
            "32/32 [==============================] - 0s 2ms/step - loss: 0.5070 - accuracy: 0.8421 - val_loss: 0.5071 - val_accuracy: 0.8539\n",
            "Epoch 29/100\n",
            "32/32 [==============================] - 0s 3ms/step - loss: 0.5005 - accuracy: 0.8587 - val_loss: 0.4972 - val_accuracy: 0.8539\n",
            "Epoch 30/100\n",
            "32/32 [==============================] - 0s 2ms/step - loss: 0.4798 - accuracy: 0.8826 - val_loss: 0.4878 - val_accuracy: 0.8493\n",
            "Epoch 31/100\n",
            "32/32 [==============================] - 0s 2ms/step - loss: 0.4826 - accuracy: 0.8612 - val_loss: 0.4783 - val_accuracy: 0.8539\n",
            "Epoch 32/100\n",
            "32/32 [==============================] - 0s 2ms/step - loss: 0.4749 - accuracy: 0.8618 - val_loss: 0.4697 - val_accuracy: 0.8539\n",
            "Epoch 33/100\n",
            "32/32 [==============================] - 0s 2ms/step - loss: 0.4645 - accuracy: 0.8689 - val_loss: 0.4602 - val_accuracy: 0.8493\n",
            "Epoch 34/100\n",
            "32/32 [==============================] - 0s 2ms/step - loss: 0.4614 - accuracy: 0.8655 - val_loss: 0.4512 - val_accuracy: 0.8493\n",
            "Epoch 35/100\n",
            "32/32 [==============================] - 0s 3ms/step - loss: 0.4457 - accuracy: 0.8596 - val_loss: 0.4429 - val_accuracy: 0.8539\n",
            "Epoch 36/100\n",
            "32/32 [==============================] - 0s 2ms/step - loss: 0.4557 - accuracy: 0.8519 - val_loss: 0.4347 - val_accuracy: 0.8539\n",
            "Epoch 37/100\n",
            "32/32 [==============================] - 0s 2ms/step - loss: 0.4313 - accuracy: 0.8534 - val_loss: 0.4270 - val_accuracy: 0.8584\n",
            "Epoch 38/100\n",
            "32/32 [==============================] - 0s 3ms/step - loss: 0.4347 - accuracy: 0.8580 - val_loss: 0.4193 - val_accuracy: 0.8584\n",
            "Epoch 39/100\n",
            "32/32 [==============================] - 0s 2ms/step - loss: 0.4039 - accuracy: 0.8695 - val_loss: 0.4126 - val_accuracy: 0.8630\n",
            "Epoch 40/100\n",
            "32/32 [==============================] - 0s 2ms/step - loss: 0.4139 - accuracy: 0.8655 - val_loss: 0.4053 - val_accuracy: 0.8630\n",
            "Epoch 41/100\n",
            "32/32 [==============================] - 0s 3ms/step - loss: 0.3929 - accuracy: 0.8872 - val_loss: 0.3983 - val_accuracy: 0.8676\n",
            "Epoch 42/100\n",
            "32/32 [==============================] - 0s 3ms/step - loss: 0.3965 - accuracy: 0.8666 - val_loss: 0.3918 - val_accuracy: 0.8676\n",
            "Epoch 43/100\n",
            "32/32 [==============================] - 0s 3ms/step - loss: 0.3814 - accuracy: 0.8767 - val_loss: 0.3856 - val_accuracy: 0.8676\n",
            "Epoch 44/100\n",
            "32/32 [==============================] - 0s 2ms/step - loss: 0.3792 - accuracy: 0.8685 - val_loss: 0.3804 - val_accuracy: 0.8721\n",
            "Epoch 45/100\n",
            "32/32 [==============================] - 0s 3ms/step - loss: 0.3870 - accuracy: 0.8630 - val_loss: 0.3773 - val_accuracy: 0.8676\n",
            "Epoch 46/100\n",
            "32/32 [==============================] - 0s 2ms/step - loss: 0.3831 - accuracy: 0.8723 - val_loss: 0.3692 - val_accuracy: 0.8721\n",
            "Epoch 47/100\n",
            "32/32 [==============================] - 0s 2ms/step - loss: 0.3750 - accuracy: 0.8677 - val_loss: 0.3642 - val_accuracy: 0.8721\n",
            "Epoch 48/100\n",
            "32/32 [==============================] - 0s 2ms/step - loss: 0.3645 - accuracy: 0.8738 - val_loss: 0.3596 - val_accuracy: 0.8721\n",
            "Epoch 49/100\n",
            "32/32 [==============================] - 0s 2ms/step - loss: 0.3454 - accuracy: 0.8819 - val_loss: 0.3561 - val_accuracy: 0.8721\n",
            "Epoch 50/100\n",
            "32/32 [==============================] - 0s 2ms/step - loss: 0.3660 - accuracy: 0.8660 - val_loss: 0.3515 - val_accuracy: 0.8721\n",
            "Epoch 51/100\n",
            "32/32 [==============================] - 0s 2ms/step - loss: 0.3512 - accuracy: 0.8668 - val_loss: 0.3483 - val_accuracy: 0.8767\n",
            "Epoch 52/100\n",
            "32/32 [==============================] - 0s 2ms/step - loss: 0.3449 - accuracy: 0.8676 - val_loss: 0.3439 - val_accuracy: 0.8721\n",
            "Epoch 53/100\n",
            "32/32 [==============================] - 0s 3ms/step - loss: 0.3218 - accuracy: 0.8848 - val_loss: 0.3401 - val_accuracy: 0.8721\n",
            "Epoch 54/100\n",
            "32/32 [==============================] - 0s 3ms/step - loss: 0.3271 - accuracy: 0.8845 - val_loss: 0.3394 - val_accuracy: 0.8767\n",
            "Epoch 55/100\n",
            "32/32 [==============================] - 0s 2ms/step - loss: 0.3428 - accuracy: 0.8604 - val_loss: 0.3345 - val_accuracy: 0.8721\n",
            "Epoch 56/100\n",
            "32/32 [==============================] - 0s 3ms/step - loss: 0.3074 - accuracy: 0.8960 - val_loss: 0.3322 - val_accuracy: 0.8721\n",
            "Epoch 57/100\n",
            "32/32 [==============================] - 0s 2ms/step - loss: 0.3504 - accuracy: 0.8722 - val_loss: 0.3303 - val_accuracy: 0.8721\n",
            "Epoch 58/100\n",
            "32/32 [==============================] - 0s 2ms/step - loss: 0.3184 - accuracy: 0.8755 - val_loss: 0.3256 - val_accuracy: 0.8721\n",
            "Epoch 59/100\n",
            "32/32 [==============================] - 0s 2ms/step - loss: 0.3249 - accuracy: 0.8669 - val_loss: 0.3239 - val_accuracy: 0.8721\n",
            "Epoch 60/100\n",
            "32/32 [==============================] - 0s 3ms/step - loss: 0.3070 - accuracy: 0.8832 - val_loss: 0.3205 - val_accuracy: 0.8721\n",
            "Epoch 61/100\n",
            "32/32 [==============================] - 0s 2ms/step - loss: 0.2995 - accuracy: 0.8951 - val_loss: 0.3186 - val_accuracy: 0.8721\n",
            "Epoch 62/100\n",
            "32/32 [==============================] - 0s 2ms/step - loss: 0.3232 - accuracy: 0.8820 - val_loss: 0.3174 - val_accuracy: 0.8721\n",
            "Epoch 63/100\n",
            "32/32 [==============================] - 0s 2ms/step - loss: 0.3089 - accuracy: 0.8725 - val_loss: 0.3144 - val_accuracy: 0.8721\n",
            "Epoch 64/100\n",
            "32/32 [==============================] - 0s 2ms/step - loss: 0.3207 - accuracy: 0.8866 - val_loss: 0.3145 - val_accuracy: 0.8767\n",
            "Epoch 65/100\n",
            "32/32 [==============================] - 0s 3ms/step - loss: 0.2977 - accuracy: 0.8910 - val_loss: 0.3115 - val_accuracy: 0.8767\n",
            "Epoch 66/100\n",
            "32/32 [==============================] - 0s 2ms/step - loss: 0.3180 - accuracy: 0.8791 - val_loss: 0.3114 - val_accuracy: 0.8767\n",
            "Epoch 67/100\n",
            "32/32 [==============================] - 0s 3ms/step - loss: 0.2987 - accuracy: 0.8981 - val_loss: 0.3092 - val_accuracy: 0.8767\n",
            "Epoch 68/100\n",
            "32/32 [==============================] - 0s 2ms/step - loss: 0.2908 - accuracy: 0.8997 - val_loss: 0.3074 - val_accuracy: 0.8767\n",
            "Epoch 69/100\n",
            "32/32 [==============================] - 0s 2ms/step - loss: 0.3319 - accuracy: 0.8869 - val_loss: 0.3044 - val_accuracy: 0.8767\n",
            "Epoch 70/100\n",
            "32/32 [==============================] - 0s 2ms/step - loss: 0.3099 - accuracy: 0.8788 - val_loss: 0.3049 - val_accuracy: 0.8767\n",
            "Epoch 71/100\n",
            "32/32 [==============================] - 0s 2ms/step - loss: 0.3122 - accuracy: 0.8819 - val_loss: 0.3021 - val_accuracy: 0.8767\n",
            "Epoch 72/100\n",
            "32/32 [==============================] - 0s 2ms/step - loss: 0.2893 - accuracy: 0.8920 - val_loss: 0.3017 - val_accuracy: 0.8767\n",
            "Epoch 73/100\n",
            "32/32 [==============================] - 0s 3ms/step - loss: 0.2792 - accuracy: 0.8954 - val_loss: 0.3003 - val_accuracy: 0.8767\n",
            "Epoch 74/100\n",
            "32/32 [==============================] - 0s 3ms/step - loss: 0.2909 - accuracy: 0.8839 - val_loss: 0.2979 - val_accuracy: 0.8767\n",
            "Epoch 75/100\n",
            "32/32 [==============================] - 0s 2ms/step - loss: 0.2894 - accuracy: 0.8852 - val_loss: 0.2969 - val_accuracy: 0.8767\n",
            "Epoch 76/100\n",
            "32/32 [==============================] - 0s 2ms/step - loss: 0.2952 - accuracy: 0.8835 - val_loss: 0.2960 - val_accuracy: 0.8767\n",
            "Epoch 77/100\n",
            "32/32 [==============================] - 0s 2ms/step - loss: 0.3172 - accuracy: 0.8754 - val_loss: 0.2948 - val_accuracy: 0.8767\n",
            "Epoch 78/100\n",
            "32/32 [==============================] - 0s 2ms/step - loss: 0.2856 - accuracy: 0.9028 - val_loss: 0.2945 - val_accuracy: 0.8767\n",
            "Epoch 79/100\n",
            "32/32 [==============================] - 0s 3ms/step - loss: 0.2785 - accuracy: 0.8962 - val_loss: 0.2943 - val_accuracy: 0.8813\n",
            "Epoch 80/100\n",
            "32/32 [==============================] - 0s 2ms/step - loss: 0.3069 - accuracy: 0.8790 - val_loss: 0.2914 - val_accuracy: 0.8813\n",
            "Epoch 81/100\n",
            "32/32 [==============================] - 0s 2ms/step - loss: 0.2635 - accuracy: 0.8998 - val_loss: 0.2935 - val_accuracy: 0.8858\n",
            "Epoch 82/100\n",
            "32/32 [==============================] - 0s 3ms/step - loss: 0.2861 - accuracy: 0.8896 - val_loss: 0.2899 - val_accuracy: 0.8813\n",
            "Epoch 83/100\n",
            "32/32 [==============================] - 0s 2ms/step - loss: 0.2679 - accuracy: 0.9091 - val_loss: 0.2886 - val_accuracy: 0.8858\n",
            "Epoch 84/100\n",
            "32/32 [==============================] - 0s 2ms/step - loss: 0.3105 - accuracy: 0.8794 - val_loss: 0.2895 - val_accuracy: 0.8813\n",
            "Epoch 85/100\n",
            "32/32 [==============================] - 0s 2ms/step - loss: 0.3058 - accuracy: 0.8752 - val_loss: 0.2878 - val_accuracy: 0.8813\n",
            "Epoch 86/100\n",
            "32/32 [==============================] - 0s 2ms/step - loss: 0.2845 - accuracy: 0.8827 - val_loss: 0.2875 - val_accuracy: 0.8813\n",
            "Epoch 87/100\n",
            "32/32 [==============================] - 0s 2ms/step - loss: 0.2878 - accuracy: 0.8913 - val_loss: 0.2863 - val_accuracy: 0.8813\n",
            "Epoch 88/100\n",
            "32/32 [==============================] - 0s 2ms/step - loss: 0.2725 - accuracy: 0.8997 - val_loss: 0.2862 - val_accuracy: 0.8813\n",
            "Epoch 89/100\n",
            "32/32 [==============================] - 0s 2ms/step - loss: 0.3027 - accuracy: 0.8855 - val_loss: 0.2852 - val_accuracy: 0.8813\n",
            "Epoch 90/100\n",
            "32/32 [==============================] - 0s 2ms/step - loss: 0.2850 - accuracy: 0.8851 - val_loss: 0.2832 - val_accuracy: 0.8813\n",
            "Epoch 91/100\n",
            "32/32 [==============================] - 0s 3ms/step - loss: 0.2520 - accuracy: 0.9149 - val_loss: 0.2844 - val_accuracy: 0.8904\n",
            "Epoch 92/100\n",
            "32/32 [==============================] - 0s 3ms/step - loss: 0.2767 - accuracy: 0.8832 - val_loss: 0.2835 - val_accuracy: 0.8904\n",
            "Epoch 93/100\n",
            "32/32 [==============================] - 0s 2ms/step - loss: 0.2623 - accuracy: 0.8977 - val_loss: 0.2814 - val_accuracy: 0.8904\n",
            "Epoch 94/100\n",
            "32/32 [==============================] - 0s 3ms/step - loss: 0.2617 - accuracy: 0.8937 - val_loss: 0.2818 - val_accuracy: 0.8904\n",
            "Epoch 95/100\n",
            "32/32 [==============================] - 0s 2ms/step - loss: 0.2895 - accuracy: 0.8907 - val_loss: 0.2804 - val_accuracy: 0.8858\n",
            "Epoch 96/100\n",
            "32/32 [==============================] - 0s 2ms/step - loss: 0.2697 - accuracy: 0.8986 - val_loss: 0.2825 - val_accuracy: 0.8813\n",
            "Epoch 97/100\n",
            "32/32 [==============================] - 0s 2ms/step - loss: 0.2738 - accuracy: 0.8930 - val_loss: 0.2801 - val_accuracy: 0.8858\n",
            "Epoch 98/100\n",
            "32/32 [==============================] - 0s 2ms/step - loss: 0.2606 - accuracy: 0.9017 - val_loss: 0.2779 - val_accuracy: 0.8858\n",
            "Epoch 99/100\n",
            "32/32 [==============================] - 0s 2ms/step - loss: 0.2700 - accuracy: 0.8946 - val_loss: 0.2779 - val_accuracy: 0.8904\n",
            "Epoch 100/100\n",
            "32/32 [==============================] - 0s 2ms/step - loss: 0.2699 - accuracy: 0.8883 - val_loss: 0.2769 - val_accuracy: 0.8858\n"
          ],
          "name": "stdout"
        }
      ]
    },
    {
      "cell_type": "code",
      "metadata": {
        "colab": {
          "base_uri": "https://localhost:8080/"
        },
        "id": "ymVren_lr4lb",
        "outputId": "515af588-74f6-4e50-ad79-72c9db184535"
      },
      "source": [
        "#to find accuracy (index 1)\n",
        "model_3.evaluate(X_test, Y_test)[1]"
      ],
      "execution_count": 78,
      "outputs": [
        {
          "output_type": "stream",
          "text": [
            "7/7 [==============================] - 0s 2ms/step - loss: 0.3075 - accuracy: 0.8721\n"
          ],
          "name": "stdout"
        },
        {
          "output_type": "execute_result",
          "data": {
            "text/plain": [
              "0.8721461296081543"
            ]
          },
          "metadata": {
            "tags": []
          },
          "execution_count": 78
        }
      ]
    },
    {
      "cell_type": "markdown",
      "metadata": {
        "id": "V75JHskOtg6_"
      },
      "source": [
        "# Visualizing Loss & Accuracy"
      ]
    },
    {
      "cell_type": "code",
      "metadata": {
        "id": "E0CGRAU9taXq"
      },
      "source": [
        "import matplotlib.pyplot as plt"
      ],
      "execution_count": 79,
      "outputs": []
    },
    {
      "cell_type": "code",
      "metadata": {
        "colab": {
          "base_uri": "https://localhost:8080/",
          "height": 295
        },
        "id": "a9noRoN3vEuJ",
        "outputId": "1eccf94b-08ae-46ae-a628-e5209ab784b3"
      },
      "source": [
        "plt.plot(hist_3.history['loss'])\n",
        "plt.plot(hist_3.history['val_loss'])\n",
        "plt.title('Model loss')\n",
        "plt.ylabel('Loss')\n",
        "plt.xlabel('Epoch')\n",
        "plt.legend(['Train', 'Val'], loc='upper right')\n",
        "plt.show()"
      ],
      "execution_count": 80,
      "outputs": [
        {
          "output_type": "display_data",
          "data": {
            "image/png": "[encoded data removed]",
            "text/plain": [
              "<Figure size 432x288 with 1 Axes>"
            ]
          },
          "metadata": {
            "tags": [],
            "needs_background": "light"
          }
        }
      ]
    },
    {
      "cell_type": "code",
      "metadata": {
        "colab": {
          "base_uri": "https://localhost:8080/",
          "height": 295
        },
        "id": "K2NNCeqBvXzm",
        "outputId": "28fb65c3-d6f5-424e-a971-f64c7e325e57"
      },
      "source": [
        "plt.plot(hist.history['accuracy'])\n",
        "plt.plot(hist.history['val_accuracy'])\n",
        "plt.title('Model accuracy')\n",
        "plt.ylabel('Accuracy')\n",
        "plt.xlabel('Epoch')\n",
        "plt.legend(['Train', 'Val'], loc='lower right')\n",
        "plt.show()"
      ],
      "execution_count": 81,
      "outputs": [
        {
          "output_type": "display_data",
          "data": {
            "image/png": "[encoded data removed]",
            "text/plain": [
              "<Figure size 432x288 with 1 Axes>"
            ]
          },
          "metadata": {
            "tags": [],
            "needs_background": "light"
          }
        }
      ]
    },
    {
      "cell_type": "markdown",
      "metadata": {
        "id": "CDIM1hb3w05c"
      },
      "source": [
        "# Badly overfitting Neural Network"
      ]
    },
    {
      "cell_type": "code",
      "metadata": {
        "id": "ItB_9qiyvf_0"
      },
      "source": [
        "model_2 = Sequential([\n",
        "    Dense(1000, activation='relu', input_shape=(10,)),\n",
        "    Dense(1000, activation='relu'),\n",
        "    Dense(1000, activation='relu'),\n",
        "    Dense(1000, activation='relu'),\n",
        "    Dense(1, activation='sigmoid'),\n",
        "])"
      ],
      "execution_count": 91,
      "outputs": []
    },
    {
      "cell_type": "code",
      "metadata": {
        "id": "IE6WTcIJw7Fv"
      },
      "source": [
        "model_2.compile(optimizer='adam',\n",
        "              loss='binary_crossentropy',\n",
        "              metrics=['accuracy'])"
      ],
      "execution_count": 92,
      "outputs": []
    },
    {
      "cell_type": "code",
      "metadata": {
        "colab": {
          "base_uri": "https://localhost:8080/"
        },
        "id": "hCIm1NObw_Qf",
        "outputId": "60369aa4-179c-450e-dec3-8378d5210397"
      },
      "source": [
        "hist_2 = model_2.fit(X_train, Y_train,\n",
        "          batch_size=32, epochs=100,\n",
        "          validation_data=(X_val, Y_val))"
      ],
      "execution_count": 93,
      "outputs": [
        {
          "output_type": "stream",
          "text": [
            "Epoch 1/100\n",
            "32/32 [==============================] - 3s 49ms/step - loss: 0.5364 - accuracy: 0.7180 - val_loss: 0.3653 - val_accuracy: 0.8311\n",
            "Epoch 2/100\n",
            "32/32 [==============================] - 1s 38ms/step - loss: 0.3300 - accuracy: 0.8743 - val_loss: 0.3037 - val_accuracy: 0.8676\n",
            "Epoch 3/100\n",
            "32/32 [==============================] - 1s 38ms/step - loss: 0.3278 - accuracy: 0.8666 - val_loss: 0.2922 - val_accuracy: 0.8813\n",
            "Epoch 4/100\n",
            "32/32 [==============================] - 1s 39ms/step - loss: 0.2721 - accuracy: 0.9012 - val_loss: 0.3083 - val_accuracy: 0.8767\n",
            "Epoch 5/100\n",
            "32/32 [==============================] - 1s 39ms/step - loss: 0.2826 - accuracy: 0.8849 - val_loss: 0.2555 - val_accuracy: 0.8858\n",
            "Epoch 6/100\n",
            "32/32 [==============================] - 1s 38ms/step - loss: 0.2531 - accuracy: 0.9036 - val_loss: 0.3229 - val_accuracy: 0.8858\n",
            "Epoch 7/100\n",
            "32/32 [==============================] - 1s 38ms/step - loss: 0.2403 - accuracy: 0.9059 - val_loss: 0.2563 - val_accuracy: 0.8858\n",
            "Epoch 8/100\n",
            "32/32 [==============================] - 1s 39ms/step - loss: 0.2168 - accuracy: 0.9241 - val_loss: 0.2455 - val_accuracy: 0.8995\n",
            "Epoch 9/100\n",
            "32/32 [==============================] - 1s 38ms/step - loss: 0.2528 - accuracy: 0.9060 - val_loss: 0.2533 - val_accuracy: 0.8767\n",
            "Epoch 10/100\n",
            "32/32 [==============================] - 1s 38ms/step - loss: 0.2468 - accuracy: 0.9078 - val_loss: 0.2386 - val_accuracy: 0.8950\n",
            "Epoch 11/100\n",
            "32/32 [==============================] - 1s 40ms/step - loss: 0.2126 - accuracy: 0.9081 - val_loss: 0.2378 - val_accuracy: 0.8904\n",
            "Epoch 12/100\n",
            "32/32 [==============================] - 1s 39ms/step - loss: 0.2050 - accuracy: 0.9130 - val_loss: 0.2741 - val_accuracy: 0.8813\n",
            "Epoch 13/100\n",
            "32/32 [==============================] - 1s 39ms/step - loss: 0.2204 - accuracy: 0.9117 - val_loss: 0.2436 - val_accuracy: 0.8950\n",
            "Epoch 14/100\n",
            "32/32 [==============================] - 1s 39ms/step - loss: 0.2140 - accuracy: 0.9102 - val_loss: 0.2901 - val_accuracy: 0.8721\n",
            "Epoch 15/100\n",
            "32/32 [==============================] - 1s 39ms/step - loss: 0.2313 - accuracy: 0.8761 - val_loss: 0.2578 - val_accuracy: 0.8858\n",
            "Epoch 16/100\n",
            "32/32 [==============================] - 1s 38ms/step - loss: 0.2038 - accuracy: 0.9130 - val_loss: 0.2425 - val_accuracy: 0.8995\n",
            "Epoch 17/100\n",
            "32/32 [==============================] - 1s 39ms/step - loss: 0.2050 - accuracy: 0.9215 - val_loss: 0.2398 - val_accuracy: 0.8950\n",
            "Epoch 18/100\n",
            "32/32 [==============================] - 1s 40ms/step - loss: 0.1781 - accuracy: 0.9271 - val_loss: 0.2561 - val_accuracy: 0.8950\n",
            "Epoch 19/100\n",
            "32/32 [==============================] - 1s 39ms/step - loss: 0.1694 - accuracy: 0.9404 - val_loss: 0.2786 - val_accuracy: 0.8767\n",
            "Epoch 20/100\n",
            "32/32 [==============================] - 1s 38ms/step - loss: 0.2111 - accuracy: 0.9129 - val_loss: 0.2975 - val_accuracy: 0.8904\n",
            "Epoch 21/100\n",
            "32/32 [==============================] - 1s 39ms/step - loss: 0.2265 - accuracy: 0.9027 - val_loss: 0.2343 - val_accuracy: 0.8904\n",
            "Epoch 22/100\n",
            "32/32 [==============================] - 1s 40ms/step - loss: 0.1706 - accuracy: 0.9369 - val_loss: 0.2572 - val_accuracy: 0.8858\n",
            "Epoch 23/100\n",
            "32/32 [==============================] - 1s 38ms/step - loss: 0.2021 - accuracy: 0.9173 - val_loss: 0.2601 - val_accuracy: 0.8904\n",
            "Epoch 24/100\n",
            "32/32 [==============================] - 1s 38ms/step - loss: 0.1947 - accuracy: 0.9198 - val_loss: 0.3004 - val_accuracy: 0.8767\n",
            "Epoch 25/100\n",
            "32/32 [==============================] - 1s 39ms/step - loss: 0.1981 - accuracy: 0.9173 - val_loss: 0.2395 - val_accuracy: 0.8995\n",
            "Epoch 26/100\n",
            "32/32 [==============================] - 1s 38ms/step - loss: 0.1844 - accuracy: 0.9280 - val_loss: 0.2859 - val_accuracy: 0.8676\n",
            "Epoch 27/100\n",
            "32/32 [==============================] - 1s 39ms/step - loss: 0.1783 - accuracy: 0.9269 - val_loss: 0.2374 - val_accuracy: 0.8813\n",
            "Epoch 28/100\n",
            "32/32 [==============================] - 1s 39ms/step - loss: 0.1961 - accuracy: 0.9104 - val_loss: 0.2846 - val_accuracy: 0.8858\n",
            "Epoch 29/100\n",
            "32/32 [==============================] - 1s 40ms/step - loss: 0.2083 - accuracy: 0.9104 - val_loss: 0.2651 - val_accuracy: 0.8858\n",
            "Epoch 30/100\n",
            "32/32 [==============================] - 1s 39ms/step - loss: 0.1782 - accuracy: 0.9201 - val_loss: 0.2598 - val_accuracy: 0.8813\n",
            "Epoch 31/100\n",
            "32/32 [==============================] - 1s 40ms/step - loss: 0.1881 - accuracy: 0.9213 - val_loss: 0.2425 - val_accuracy: 0.9087\n",
            "Epoch 32/100\n",
            "32/32 [==============================] - 1s 39ms/step - loss: 0.2156 - accuracy: 0.9227 - val_loss: 0.2748 - val_accuracy: 0.8813\n",
            "Epoch 33/100\n",
            "32/32 [==============================] - 1s 38ms/step - loss: 0.1497 - accuracy: 0.9350 - val_loss: 0.2291 - val_accuracy: 0.8995\n",
            "Epoch 34/100\n",
            "32/32 [==============================] - 1s 40ms/step - loss: 0.1981 - accuracy: 0.9181 - val_loss: 0.2474 - val_accuracy: 0.9041\n",
            "Epoch 35/100\n",
            "32/32 [==============================] - 1s 39ms/step - loss: 0.1740 - accuracy: 0.9317 - val_loss: 0.3396 - val_accuracy: 0.8676\n",
            "Epoch 36/100\n",
            "32/32 [==============================] - 1s 39ms/step - loss: 0.2007 - accuracy: 0.9158 - val_loss: 0.2559 - val_accuracy: 0.8904\n",
            "Epoch 37/100\n",
            "32/32 [==============================] - 1s 40ms/step - loss: 0.1596 - accuracy: 0.9343 - val_loss: 0.2776 - val_accuracy: 0.8904\n",
            "Epoch 38/100\n",
            "32/32 [==============================] - 1s 39ms/step - loss: 0.1881 - accuracy: 0.9255 - val_loss: 0.2426 - val_accuracy: 0.9132\n",
            "Epoch 39/100\n",
            "32/32 [==============================] - 1s 40ms/step - loss: 0.2010 - accuracy: 0.9183 - val_loss: 0.2277 - val_accuracy: 0.8995\n",
            "Epoch 40/100\n",
            "32/32 [==============================] - 1s 39ms/step - loss: 0.1602 - accuracy: 0.9398 - val_loss: 0.2928 - val_accuracy: 0.8904\n",
            "Epoch 41/100\n",
            "32/32 [==============================] - 1s 39ms/step - loss: 0.1900 - accuracy: 0.9126 - val_loss: 0.2486 - val_accuracy: 0.8858\n",
            "Epoch 42/100\n",
            "32/32 [==============================] - 1s 39ms/step - loss: 0.1670 - accuracy: 0.9348 - val_loss: 0.3112 - val_accuracy: 0.8995\n",
            "Epoch 43/100\n",
            "32/32 [==============================] - 1s 39ms/step - loss: 0.1746 - accuracy: 0.9196 - val_loss: 0.2415 - val_accuracy: 0.8950\n",
            "Epoch 44/100\n",
            "32/32 [==============================] - 1s 39ms/step - loss: 0.1869 - accuracy: 0.9293 - val_loss: 0.2376 - val_accuracy: 0.9041\n",
            "Epoch 45/100\n",
            "32/32 [==============================] - 1s 40ms/step - loss: 0.1480 - accuracy: 0.9370 - val_loss: 0.2406 - val_accuracy: 0.9041\n",
            "Epoch 46/100\n",
            "32/32 [==============================] - 1s 39ms/step - loss: 0.1409 - accuracy: 0.9366 - val_loss: 0.2467 - val_accuracy: 0.8950\n",
            "Epoch 47/100\n",
            "32/32 [==============================] - 1s 39ms/step - loss: 0.1735 - accuracy: 0.9194 - val_loss: 0.2879 - val_accuracy: 0.8858\n",
            "Epoch 48/100\n",
            "32/32 [==============================] - 1s 38ms/step - loss: 0.1642 - accuracy: 0.9408 - val_loss: 0.2785 - val_accuracy: 0.8995\n",
            "Epoch 49/100\n",
            "32/32 [==============================] - 1s 39ms/step - loss: 0.1519 - accuracy: 0.9363 - val_loss: 0.2714 - val_accuracy: 0.8813\n",
            "Epoch 50/100\n",
            "32/32 [==============================] - 1s 38ms/step - loss: 0.1934 - accuracy: 0.9153 - val_loss: 0.2931 - val_accuracy: 0.9087\n",
            "Epoch 51/100\n",
            "32/32 [==============================] - 1s 38ms/step - loss: 0.1480 - accuracy: 0.9398 - val_loss: 0.3260 - val_accuracy: 0.9087\n",
            "Epoch 52/100\n",
            "32/32 [==============================] - 1s 39ms/step - loss: 0.1290 - accuracy: 0.9521 - val_loss: 0.3289 - val_accuracy: 0.8813\n",
            "Epoch 53/100\n",
            "32/32 [==============================] - 1s 39ms/step - loss: 0.2072 - accuracy: 0.9232 - val_loss: 0.2746 - val_accuracy: 0.8904\n",
            "Epoch 54/100\n",
            "32/32 [==============================] - 1s 39ms/step - loss: 0.1583 - accuracy: 0.9325 - val_loss: 0.2734 - val_accuracy: 0.9041\n",
            "Epoch 55/100\n",
            "32/32 [==============================] - 1s 39ms/step - loss: 0.1635 - accuracy: 0.9284 - val_loss: 0.2705 - val_accuracy: 0.8995\n",
            "Epoch 56/100\n",
            "32/32 [==============================] - 1s 38ms/step - loss: 0.1301 - accuracy: 0.9587 - val_loss: 0.3219 - val_accuracy: 0.8995\n",
            "Epoch 57/100\n",
            "32/32 [==============================] - 1s 39ms/step - loss: 0.1177 - accuracy: 0.9557 - val_loss: 0.3108 - val_accuracy: 0.8813\n",
            "Epoch 58/100\n",
            "32/32 [==============================] - 1s 39ms/step - loss: 0.1362 - accuracy: 0.9457 - val_loss: 0.2198 - val_accuracy: 0.9041\n",
            "Epoch 59/100\n",
            "32/32 [==============================] - 1s 39ms/step - loss: 0.1360 - accuracy: 0.9495 - val_loss: 0.3684 - val_accuracy: 0.8813\n",
            "Epoch 60/100\n",
            "32/32 [==============================] - 1s 38ms/step - loss: 0.1788 - accuracy: 0.9186 - val_loss: 0.2767 - val_accuracy: 0.8904\n",
            "Epoch 61/100\n",
            "32/32 [==============================] - 1s 39ms/step - loss: 0.1348 - accuracy: 0.9474 - val_loss: 0.2983 - val_accuracy: 0.8676\n",
            "Epoch 62/100\n",
            "32/32 [==============================] - 1s 40ms/step - loss: 0.1310 - accuracy: 0.9588 - val_loss: 0.2914 - val_accuracy: 0.9041\n",
            "Epoch 63/100\n",
            "32/32 [==============================] - 1s 39ms/step - loss: 0.1409 - accuracy: 0.9327 - val_loss: 0.3493 - val_accuracy: 0.8767\n",
            "Epoch 64/100\n",
            "32/32 [==============================] - 1s 39ms/step - loss: 0.1413 - accuracy: 0.9515 - val_loss: 0.2884 - val_accuracy: 0.9041\n",
            "Epoch 65/100\n",
            "32/32 [==============================] - 1s 39ms/step - loss: 0.1310 - accuracy: 0.9532 - val_loss: 0.3224 - val_accuracy: 0.8995\n",
            "Epoch 66/100\n",
            "32/32 [==============================] - 1s 40ms/step - loss: 0.1152 - accuracy: 0.9488 - val_loss: 0.3852 - val_accuracy: 0.8950\n",
            "Epoch 67/100\n",
            "32/32 [==============================] - 1s 38ms/step - loss: 0.1753 - accuracy: 0.9374 - val_loss: 0.3068 - val_accuracy: 0.8858\n",
            "Epoch 68/100\n",
            "32/32 [==============================] - 1s 39ms/step - loss: 0.1838 - accuracy: 0.9202 - val_loss: 0.2967 - val_accuracy: 0.8995\n",
            "Epoch 69/100\n",
            "32/32 [==============================] - 1s 39ms/step - loss: 0.1334 - accuracy: 0.9457 - val_loss: 0.4241 - val_accuracy: 0.8950\n",
            "Epoch 70/100\n",
            "32/32 [==============================] - 1s 40ms/step - loss: 0.1490 - accuracy: 0.9361 - val_loss: 0.2726 - val_accuracy: 0.8904\n",
            "Epoch 71/100\n",
            "32/32 [==============================] - 1s 40ms/step - loss: 0.1372 - accuracy: 0.9456 - val_loss: 0.3237 - val_accuracy: 0.8904\n",
            "Epoch 72/100\n",
            "32/32 [==============================] - 1s 40ms/step - loss: 0.1154 - accuracy: 0.9597 - val_loss: 0.3464 - val_accuracy: 0.8311\n",
            "Epoch 73/100\n",
            "32/32 [==============================] - 1s 39ms/step - loss: 0.1330 - accuracy: 0.9518 - val_loss: 0.2990 - val_accuracy: 0.8904\n",
            "Epoch 74/100\n",
            "32/32 [==============================] - 1s 39ms/step - loss: 0.1374 - accuracy: 0.9486 - val_loss: 0.2923 - val_accuracy: 0.8767\n",
            "Epoch 75/100\n",
            "32/32 [==============================] - 1s 40ms/step - loss: 0.1373 - accuracy: 0.9371 - val_loss: 0.2793 - val_accuracy: 0.8950\n",
            "Epoch 76/100\n",
            "32/32 [==============================] - 1s 40ms/step - loss: 0.1186 - accuracy: 0.9528 - val_loss: 0.3056 - val_accuracy: 0.8950\n",
            "Epoch 77/100\n",
            "32/32 [==============================] - 1s 39ms/step - loss: 0.1456 - accuracy: 0.9267 - val_loss: 0.2579 - val_accuracy: 0.8995\n",
            "Epoch 78/100\n",
            "32/32 [==============================] - 1s 41ms/step - loss: 0.1117 - accuracy: 0.9515 - val_loss: 0.2960 - val_accuracy: 0.9087\n",
            "Epoch 79/100\n",
            "32/32 [==============================] - 1s 40ms/step - loss: 0.1109 - accuracy: 0.9552 - val_loss: 0.2983 - val_accuracy: 0.9087\n",
            "Epoch 80/100\n",
            "32/32 [==============================] - 1s 41ms/step - loss: 0.1016 - accuracy: 0.9623 - val_loss: 0.3377 - val_accuracy: 0.8858\n",
            "Epoch 81/100\n",
            "32/32 [==============================] - 1s 41ms/step - loss: 0.1031 - accuracy: 0.9592 - val_loss: 0.4261 - val_accuracy: 0.9087\n",
            "Epoch 82/100\n",
            "32/32 [==============================] - 1s 40ms/step - loss: 0.1229 - accuracy: 0.9512 - val_loss: 0.3722 - val_accuracy: 0.8858\n",
            "Epoch 83/100\n",
            "32/32 [==============================] - 1s 39ms/step - loss: 0.1095 - accuracy: 0.9544 - val_loss: 0.4046 - val_accuracy: 0.8950\n",
            "Epoch 84/100\n",
            "32/32 [==============================] - 1s 40ms/step - loss: 0.1223 - accuracy: 0.9525 - val_loss: 0.3230 - val_accuracy: 0.8904\n",
            "Epoch 85/100\n",
            "32/32 [==============================] - 1s 40ms/step - loss: 0.1040 - accuracy: 0.9596 - val_loss: 0.3885 - val_accuracy: 0.8904\n",
            "Epoch 86/100\n",
            "32/32 [==============================] - 1s 40ms/step - loss: 0.1037 - accuracy: 0.9602 - val_loss: 0.5141 - val_accuracy: 0.8721\n",
            "Epoch 87/100\n",
            "32/32 [==============================] - 1s 40ms/step - loss: 0.1566 - accuracy: 0.9435 - val_loss: 0.3603 - val_accuracy: 0.8767\n",
            "Epoch 88/100\n",
            "32/32 [==============================] - 1s 40ms/step - loss: 0.1167 - accuracy: 0.9590 - val_loss: 0.5302 - val_accuracy: 0.8858\n",
            "Epoch 89/100\n",
            "32/32 [==============================] - 1s 40ms/step - loss: 0.1441 - accuracy: 0.9422 - val_loss: 0.3429 - val_accuracy: 0.8813\n",
            "Epoch 90/100\n",
            "32/32 [==============================] - 1s 40ms/step - loss: 0.1162 - accuracy: 0.9532 - val_loss: 0.3458 - val_accuracy: 0.8813\n",
            "Epoch 91/100\n",
            "32/32 [==============================] - 1s 40ms/step - loss: 0.1076 - accuracy: 0.9587 - val_loss: 0.3818 - val_accuracy: 0.8676\n",
            "Epoch 92/100\n",
            "32/32 [==============================] - 1s 40ms/step - loss: 0.1583 - accuracy: 0.9353 - val_loss: 0.3840 - val_accuracy: 0.8813\n",
            "Epoch 93/100\n",
            "32/32 [==============================] - 1s 40ms/step - loss: 0.1595 - accuracy: 0.9266 - val_loss: 0.3668 - val_accuracy: 0.8858\n",
            "Epoch 94/100\n",
            "32/32 [==============================] - 1s 40ms/step - loss: 0.0867 - accuracy: 0.9684 - val_loss: 0.4079 - val_accuracy: 0.8950\n",
            "Epoch 95/100\n",
            "32/32 [==============================] - 1s 39ms/step - loss: 0.0875 - accuracy: 0.9649 - val_loss: 0.4320 - val_accuracy: 0.8721\n",
            "Epoch 96/100\n",
            "32/32 [==============================] - 1s 39ms/step - loss: 0.1568 - accuracy: 0.9419 - val_loss: 0.4266 - val_accuracy: 0.8767\n",
            "Epoch 97/100\n",
            "32/32 [==============================] - 1s 40ms/step - loss: 0.1088 - accuracy: 0.9633 - val_loss: 0.4257 - val_accuracy: 0.8950\n",
            "Epoch 98/100\n",
            "32/32 [==============================] - 1s 41ms/step - loss: 0.0808 - accuracy: 0.9718 - val_loss: 0.3216 - val_accuracy: 0.8767\n",
            "Epoch 99/100\n",
            "32/32 [==============================] - 1s 40ms/step - loss: 0.1046 - accuracy: 0.9493 - val_loss: 0.3467 - val_accuracy: 0.8950\n",
            "Epoch 100/100\n",
            "32/32 [==============================] - 1s 40ms/step - loss: 0.0937 - accuracy: 0.9669 - val_loss: 0.3972 - val_accuracy: 0.8858\n"
          ],
          "name": "stdout"
        }
      ]
    },
    {
      "cell_type": "code",
      "metadata": {
        "colab": {
          "base_uri": "https://localhost:8080/",
          "height": 295
        },
        "id": "P9Brrvsn9kee",
        "outputId": "277808bc-4b5f-4332-cd65-7a323bdcbbb5"
      },
      "source": [
        "plt.plot(hist_2.history['loss'])\n",
        "plt.plot(hist_2.history['val_loss'])\n",
        "plt.title('Model loss')\n",
        "plt.ylabel('Loss')\n",
        "plt.xlabel('Epoch')\n",
        "plt.legend(['Train', 'Val'], loc='upper right')\n",
        "plt.show()"
      ],
      "execution_count": 97,
      "outputs": [
        {
          "output_type": "display_data",
          "data": {
            "image/png": "[encoded data removed]",
            "text/plain": [
              "<Figure size 432x288 with 1 Axes>"
            ]
          },
          "metadata": {
            "tags": [],
            "needs_background": "light"
          }
        }
      ]
    },
    {
      "cell_type": "code",
      "metadata": {
        "id": "FZ3o3GdI9noF"
      },
      "source": [
        "plt.plot(hist_2.history['acc'])\n",
        "plt.plot(hist_2.history['val_acc'])\n",
        "plt.title('Model accuracy')\n",
        "plt.ylabel('Accuracy')\n",
        "plt.xlabel('Epoch')\n",
        "plt.legend(['Train', 'Val'], loc='lower right')\n",
        "plt.show()"
      ],
      "execution_count": null,
      "outputs": []
    },
    {
      "cell_type": "markdown",
      "metadata": {
        "id": "1JU8OpQO9smK"
      },
      "source": [
        "## L2 regularization & Dropout Added"
      ]
    },
    {
      "cell_type": "code",
      "metadata": {
        "id": "S2TE_Eda9qo3"
      },
      "source": [
        "from keras.layers import Dropout\n",
        "from keras import regularizers"
      ],
      "execution_count": 99,
      "outputs": []
    },
    {
      "cell_type": "code",
      "metadata": {
        "id": "OubzZo8M9v5N"
      },
      "source": [
        "model_4 = Sequential([\n",
        "    Dense(1000, activation='relu', kernel_regularizer=regularizers.l2(0.01), input_shape=(10,)),\n",
        "    Dropout(0.3),\n",
        "    Dense(1000, activation='relu', kernel_regularizer=regularizers.l2(0.01)), #This tells Keras to include the squared values of those parameters in our overall loss function, and weight them by 0.01 in the loss function.\n",
        "    Dropout(0.3), #neurons in the previous layer has a probability of 0.3 in dropping out during training.\n",
        "    Dense(1000, activation='relu', kernel_regularizer=regularizers.l2(0.01)),\n",
        "    Dropout(0.3),\n",
        "    Dense(1000, activation='relu', kernel_regularizer=regularizers.l2(0.01)),\n",
        "    Dropout(0.3),\n",
        "    Dense(1, activation='sigmoid', kernel_regularizer=regularizers.l2(0.01)),\n",
        "])"
      ],
      "execution_count": 100,
      "outputs": []
    },
    {
      "cell_type": "code",
      "metadata": {
        "id": "OtXGQdzr96di"
      },
      "source": [
        "model_4.compile(optimizer='adam',\n",
        "              loss='binary_crossentropy',\n",
        "              metrics=['accuracy'])"
      ],
      "execution_count": 101,
      "outputs": []
    },
    {
      "cell_type": "code",
      "metadata": {
        "colab": {
          "base_uri": "https://localhost:8080/"
        },
        "id": "a3Q9vf1j97g1",
        "outputId": "707ba675-691f-49ef-e9f4-79832a166213"
      },
      "source": [
        "hist_4 = model_4.fit(X_train, Y_train,\n",
        "          batch_size=32, epochs=100,\n",
        "          validation_data=(X_val, Y_val))"
      ],
      "execution_count": 102,
      "outputs": [
        {
          "output_type": "stream",
          "text": [
            "Epoch 1/100\n",
            "32/32 [==============================] - 4s 67ms/step - loss: 21.1127 - accuracy: 0.5468 - val_loss: 3.9213 - val_accuracy: 0.6986\n",
            "Epoch 2/100\n",
            "32/32 [==============================] - 2s 52ms/step - loss: 2.4986 - accuracy: 0.7916 - val_loss: 0.6524 - val_accuracy: 0.8676\n",
            "Epoch 3/100\n",
            "32/32 [==============================] - 2s 50ms/step - loss: 0.5906 - accuracy: 0.8785 - val_loss: 0.5219 - val_accuracy: 0.8676\n",
            "Epoch 4/100\n",
            "32/32 [==============================] - 2s 51ms/step - loss: 0.5067 - accuracy: 0.8726 - val_loss: 0.4670 - val_accuracy: 0.8767\n",
            "Epoch 5/100\n",
            "32/32 [==============================] - 2s 50ms/step - loss: 0.4917 - accuracy: 0.8898 - val_loss: 0.4620 - val_accuracy: 0.8813\n",
            "Epoch 6/100\n",
            "32/32 [==============================] - 2s 50ms/step - loss: 0.4817 - accuracy: 0.8774 - val_loss: 0.4511 - val_accuracy: 0.8858\n",
            "Epoch 7/100\n",
            "32/32 [==============================] - 2s 51ms/step - loss: 0.4588 - accuracy: 0.8921 - val_loss: 0.5488 - val_accuracy: 0.8082\n",
            "Epoch 8/100\n",
            "32/32 [==============================] - 2s 51ms/step - loss: 0.4928 - accuracy: 0.8447 - val_loss: 0.4426 - val_accuracy: 0.8858\n",
            "Epoch 9/100\n",
            "32/32 [==============================] - 2s 51ms/step - loss: 0.4835 - accuracy: 0.8624 - val_loss: 0.5157 - val_accuracy: 0.8676\n",
            "Epoch 10/100\n",
            "32/32 [==============================] - 2s 51ms/step - loss: 0.4659 - accuracy: 0.8842 - val_loss: 0.4398 - val_accuracy: 0.8858\n",
            "Epoch 11/100\n",
            "32/32 [==============================] - 2s 51ms/step - loss: 0.4544 - accuracy: 0.8880 - val_loss: 0.4294 - val_accuracy: 0.8995\n",
            "Epoch 12/100\n",
            "32/32 [==============================] - 2s 50ms/step - loss: 0.4734 - accuracy: 0.8752 - val_loss: 0.5032 - val_accuracy: 0.8630\n",
            "Epoch 13/100\n",
            "32/32 [==============================] - 2s 50ms/step - loss: 0.4868 - accuracy: 0.8594 - val_loss: 0.4909 - val_accuracy: 0.8539\n",
            "Epoch 14/100\n",
            "32/32 [==============================] - 2s 51ms/step - loss: 0.4660 - accuracy: 0.8807 - val_loss: 0.4306 - val_accuracy: 0.8813\n",
            "Epoch 15/100\n",
            "32/32 [==============================] - 2s 51ms/step - loss: 0.4467 - accuracy: 0.8878 - val_loss: 0.4775 - val_accuracy: 0.8721\n",
            "Epoch 16/100\n",
            "32/32 [==============================] - 2s 50ms/step - loss: 0.4523 - accuracy: 0.8811 - val_loss: 0.4802 - val_accuracy: 0.8539\n",
            "Epoch 17/100\n",
            "32/32 [==============================] - 2s 51ms/step - loss: 0.4506 - accuracy: 0.8754 - val_loss: 0.4509 - val_accuracy: 0.8767\n",
            "Epoch 18/100\n",
            "32/32 [==============================] - 2s 50ms/step - loss: 0.4300 - accuracy: 0.8964 - val_loss: 0.4417 - val_accuracy: 0.8721\n",
            "Epoch 19/100\n",
            "32/32 [==============================] - 2s 50ms/step - loss: 0.4239 - accuracy: 0.8930 - val_loss: 0.4744 - val_accuracy: 0.8539\n",
            "Epoch 20/100\n",
            "32/32 [==============================] - 2s 50ms/step - loss: 0.4887 - accuracy: 0.8438 - val_loss: 0.4312 - val_accuracy: 0.8858\n",
            "Epoch 21/100\n",
            "32/32 [==============================] - 2s 49ms/step - loss: 0.4672 - accuracy: 0.8595 - val_loss: 0.4199 - val_accuracy: 0.8904\n",
            "Epoch 22/100\n",
            "32/32 [==============================] - 2s 50ms/step - loss: 0.4311 - accuracy: 0.8863 - val_loss: 0.4539 - val_accuracy: 0.8676\n",
            "Epoch 23/100\n",
            "32/32 [==============================] - 2s 50ms/step - loss: 0.4803 - accuracy: 0.8675 - val_loss: 0.4600 - val_accuracy: 0.8676\n",
            "Epoch 24/100\n",
            "32/32 [==============================] - 2s 51ms/step - loss: 0.4482 - accuracy: 0.8866 - val_loss: 0.4454 - val_accuracy: 0.8721\n",
            "Epoch 25/100\n",
            "32/32 [==============================] - 2s 51ms/step - loss: 0.4295 - accuracy: 0.9040 - val_loss: 0.4197 - val_accuracy: 0.8904\n",
            "Epoch 26/100\n",
            "32/32 [==============================] - 2s 50ms/step - loss: 0.4302 - accuracy: 0.9012 - val_loss: 0.4245 - val_accuracy: 0.8950\n",
            "Epoch 27/100\n",
            "32/32 [==============================] - 2s 51ms/step - loss: 0.4423 - accuracy: 0.8880 - val_loss: 0.4210 - val_accuracy: 0.8995\n",
            "Epoch 28/100\n",
            "32/32 [==============================] - 2s 52ms/step - loss: 0.4305 - accuracy: 0.8796 - val_loss: 0.4575 - val_accuracy: 0.8584\n",
            "Epoch 29/100\n",
            "32/32 [==============================] - 2s 50ms/step - loss: 0.4165 - accuracy: 0.8997 - val_loss: 0.4190 - val_accuracy: 0.9041\n",
            "Epoch 30/100\n",
            "32/32 [==============================] - 2s 51ms/step - loss: 0.4508 - accuracy: 0.8867 - val_loss: 0.4203 - val_accuracy: 0.8950\n",
            "Epoch 31/100\n",
            "32/32 [==============================] - 2s 51ms/step - loss: 0.4419 - accuracy: 0.8778 - val_loss: 0.4200 - val_accuracy: 0.8950\n",
            "Epoch 32/100\n",
            "32/32 [==============================] - 2s 51ms/step - loss: 0.4329 - accuracy: 0.8983 - val_loss: 0.4316 - val_accuracy: 0.8858\n",
            "Epoch 33/100\n",
            "32/32 [==============================] - 2s 52ms/step - loss: 0.4323 - accuracy: 0.8750 - val_loss: 0.4201 - val_accuracy: 0.8995\n",
            "Epoch 34/100\n",
            "32/32 [==============================] - 2s 51ms/step - loss: 0.3980 - accuracy: 0.9071 - val_loss: 0.4170 - val_accuracy: 0.8995\n",
            "Epoch 35/100\n",
            "32/32 [==============================] - 2s 52ms/step - loss: 0.4107 - accuracy: 0.9039 - val_loss: 0.4293 - val_accuracy: 0.8858\n",
            "Epoch 36/100\n",
            "32/32 [==============================] - 2s 52ms/step - loss: 0.4135 - accuracy: 0.8941 - val_loss: 0.4951 - val_accuracy: 0.8630\n",
            "Epoch 37/100\n",
            "32/32 [==============================] - 2s 50ms/step - loss: 0.4944 - accuracy: 0.8575 - val_loss: 0.4219 - val_accuracy: 0.9041\n",
            "Epoch 38/100\n",
            "32/32 [==============================] - 2s 52ms/step - loss: 0.4255 - accuracy: 0.8860 - val_loss: 0.4368 - val_accuracy: 0.8676\n",
            "Epoch 39/100\n",
            "32/32 [==============================] - 2s 51ms/step - loss: 0.4440 - accuracy: 0.8837 - val_loss: 0.4162 - val_accuracy: 0.8950\n",
            "Epoch 40/100\n",
            "32/32 [==============================] - 2s 51ms/step - loss: 0.4457 - accuracy: 0.8921 - val_loss: 0.4256 - val_accuracy: 0.8767\n",
            "Epoch 41/100\n",
            "32/32 [==============================] - 2s 50ms/step - loss: 0.4659 - accuracy: 0.8649 - val_loss: 0.4178 - val_accuracy: 0.8904\n",
            "Epoch 42/100\n",
            "32/32 [==============================] - 2s 52ms/step - loss: 0.4780 - accuracy: 0.8609 - val_loss: 0.4319 - val_accuracy: 0.8813\n",
            "Epoch 43/100\n",
            "32/32 [==============================] - 2s 50ms/step - loss: 0.4251 - accuracy: 0.8843 - val_loss: 0.4446 - val_accuracy: 0.8721\n",
            "Epoch 44/100\n",
            "32/32 [==============================] - 2s 53ms/step - loss: 0.4536 - accuracy: 0.8756 - val_loss: 0.5142 - val_accuracy: 0.8311\n",
            "Epoch 45/100\n",
            "32/32 [==============================] - 2s 55ms/step - loss: 0.4407 - accuracy: 0.8918 - val_loss: 0.4155 - val_accuracy: 0.9041\n",
            "Epoch 46/100\n",
            "32/32 [==============================] - 2s 54ms/step - loss: 0.4310 - accuracy: 0.8850 - val_loss: 0.4307 - val_accuracy: 0.8813\n",
            "Epoch 47/100\n",
            "32/32 [==============================] - 2s 52ms/step - loss: 0.4379 - accuracy: 0.8898 - val_loss: 0.4257 - val_accuracy: 0.8858\n",
            "Epoch 48/100\n",
            "32/32 [==============================] - 2s 52ms/step - loss: 0.4429 - accuracy: 0.8867 - val_loss: 0.4149 - val_accuracy: 0.8950\n",
            "Epoch 49/100\n",
            "32/32 [==============================] - 2s 52ms/step - loss: 0.4253 - accuracy: 0.8877 - val_loss: 0.4651 - val_accuracy: 0.8493\n",
            "Epoch 50/100\n",
            "32/32 [==============================] - 2s 52ms/step - loss: 0.4476 - accuracy: 0.8819 - val_loss: 0.4282 - val_accuracy: 0.8813\n",
            "Epoch 51/100\n",
            "32/32 [==============================] - 2s 52ms/step - loss: 0.4366 - accuracy: 0.8872 - val_loss: 0.4137 - val_accuracy: 0.8950\n",
            "Epoch 52/100\n",
            "32/32 [==============================] - 2s 51ms/step - loss: 0.4700 - accuracy: 0.8716 - val_loss: 0.4585 - val_accuracy: 0.8539\n",
            "Epoch 53/100\n",
            "32/32 [==============================] - 2s 51ms/step - loss: 0.4404 - accuracy: 0.8780 - val_loss: 0.4213 - val_accuracy: 0.8995\n",
            "Epoch 54/100\n",
            "32/32 [==============================] - 2s 51ms/step - loss: 0.4142 - accuracy: 0.8946 - val_loss: 0.4504 - val_accuracy: 0.8721\n",
            "Epoch 55/100\n",
            "32/32 [==============================] - 2s 51ms/step - loss: 0.4185 - accuracy: 0.9059 - val_loss: 0.4305 - val_accuracy: 0.8904\n",
            "Epoch 56/100\n",
            "32/32 [==============================] - 2s 51ms/step - loss: 0.4277 - accuracy: 0.8941 - val_loss: 0.4294 - val_accuracy: 0.8858\n",
            "Epoch 57/100\n",
            "32/32 [==============================] - 2s 51ms/step - loss: 0.4645 - accuracy: 0.8778 - val_loss: 0.4116 - val_accuracy: 0.8950\n",
            "Epoch 58/100\n",
            "32/32 [==============================] - 2s 52ms/step - loss: 0.4532 - accuracy: 0.8749 - val_loss: 0.4384 - val_accuracy: 0.8676\n",
            "Epoch 59/100\n",
            "32/32 [==============================] - 2s 52ms/step - loss: 0.4555 - accuracy: 0.8673 - val_loss: 0.4323 - val_accuracy: 0.8721\n",
            "Epoch 60/100\n",
            "32/32 [==============================] - 2s 51ms/step - loss: 0.4035 - accuracy: 0.8998 - val_loss: 0.4195 - val_accuracy: 0.8995\n",
            "Epoch 61/100\n",
            "32/32 [==============================] - 2s 52ms/step - loss: 0.4371 - accuracy: 0.8873 - val_loss: 0.4169 - val_accuracy: 0.8950\n",
            "Epoch 62/100\n",
            "32/32 [==============================] - 2s 51ms/step - loss: 0.4352 - accuracy: 0.8863 - val_loss: 0.4267 - val_accuracy: 0.8858\n",
            "Epoch 63/100\n",
            "32/32 [==============================] - 2s 51ms/step - loss: 0.4328 - accuracy: 0.8815 - val_loss: 0.4151 - val_accuracy: 0.8950\n",
            "Epoch 64/100\n",
            "32/32 [==============================] - 2s 52ms/step - loss: 0.4275 - accuracy: 0.8920 - val_loss: 0.4309 - val_accuracy: 0.8767\n",
            "Epoch 65/100\n",
            "32/32 [==============================] - 2s 53ms/step - loss: 0.4223 - accuracy: 0.8960 - val_loss: 0.4146 - val_accuracy: 0.8995\n",
            "Epoch 66/100\n",
            "32/32 [==============================] - 2s 51ms/step - loss: 0.4220 - accuracy: 0.8928 - val_loss: 0.4282 - val_accuracy: 0.8950\n",
            "Epoch 67/100\n",
            "32/32 [==============================] - 2s 51ms/step - loss: 0.4368 - accuracy: 0.8781 - val_loss: 0.4173 - val_accuracy: 0.8950\n",
            "Epoch 68/100\n",
            "32/32 [==============================] - 2s 53ms/step - loss: 0.4343 - accuracy: 0.8925 - val_loss: 0.4151 - val_accuracy: 0.8950\n",
            "Epoch 69/100\n",
            "32/32 [==============================] - 2s 53ms/step - loss: 0.4279 - accuracy: 0.8945 - val_loss: 0.4199 - val_accuracy: 0.8995\n",
            "Epoch 70/100\n",
            "32/32 [==============================] - 2s 52ms/step - loss: 0.4428 - accuracy: 0.8735 - val_loss: 0.4311 - val_accuracy: 0.8858\n",
            "Epoch 71/100\n",
            "32/32 [==============================] - 2s 53ms/step - loss: 0.4710 - accuracy: 0.8804 - val_loss: 0.4907 - val_accuracy: 0.8447\n",
            "Epoch 72/100\n",
            "32/32 [==============================] - 2s 54ms/step - loss: 0.4173 - accuracy: 0.8889 - val_loss: 0.4424 - val_accuracy: 0.8813\n",
            "Epoch 73/100\n",
            "32/32 [==============================] - 2s 52ms/step - loss: 0.4511 - accuracy: 0.8913 - val_loss: 0.5096 - val_accuracy: 0.8356\n",
            "Epoch 74/100\n",
            "32/32 [==============================] - 2s 52ms/step - loss: 0.4297 - accuracy: 0.8886 - val_loss: 0.4317 - val_accuracy: 0.8721\n",
            "Epoch 75/100\n",
            "32/32 [==============================] - 2s 51ms/step - loss: 0.3890 - accuracy: 0.9135 - val_loss: 0.4203 - val_accuracy: 0.8995\n",
            "Epoch 76/100\n",
            "32/32 [==============================] - 2s 52ms/step - loss: 0.4134 - accuracy: 0.9053 - val_loss: 0.4131 - val_accuracy: 0.8950\n",
            "Epoch 77/100\n",
            "32/32 [==============================] - 2s 53ms/step - loss: 0.4577 - accuracy: 0.8739 - val_loss: 0.4134 - val_accuracy: 0.8950\n",
            "Epoch 78/100\n",
            "32/32 [==============================] - 2s 52ms/step - loss: 0.4126 - accuracy: 0.9101 - val_loss: 0.4229 - val_accuracy: 0.8995\n",
            "Epoch 79/100\n",
            "32/32 [==============================] - 2s 53ms/step - loss: 0.4233 - accuracy: 0.8919 - val_loss: 0.4174 - val_accuracy: 0.8995\n",
            "Epoch 80/100\n",
            "32/32 [==============================] - 2s 54ms/step - loss: 0.4438 - accuracy: 0.8853 - val_loss: 0.4121 - val_accuracy: 0.8858\n",
            "Epoch 81/100\n",
            "32/32 [==============================] - 2s 51ms/step - loss: 0.4114 - accuracy: 0.9043 - val_loss: 0.4145 - val_accuracy: 0.8950\n",
            "Epoch 82/100\n",
            "32/32 [==============================] - 2s 52ms/step - loss: 0.4234 - accuracy: 0.8739 - val_loss: 0.4215 - val_accuracy: 0.8904\n",
            "Epoch 83/100\n",
            "32/32 [==============================] - 2s 53ms/step - loss: 0.4542 - accuracy: 0.8807 - val_loss: 0.4376 - val_accuracy: 0.8721\n",
            "Epoch 84/100\n",
            "32/32 [==============================] - 2s 51ms/step - loss: 0.4221 - accuracy: 0.9010 - val_loss: 0.4122 - val_accuracy: 0.8950\n",
            "Epoch 85/100\n",
            "32/32 [==============================] - 2s 53ms/step - loss: 0.4026 - accuracy: 0.8990 - val_loss: 0.4110 - val_accuracy: 0.8904\n",
            "Epoch 86/100\n",
            "32/32 [==============================] - 2s 51ms/step - loss: 0.4198 - accuracy: 0.9013 - val_loss: 0.4116 - val_accuracy: 0.8904\n",
            "Epoch 87/100\n",
            "32/32 [==============================] - 2s 51ms/step - loss: 0.4297 - accuracy: 0.8847 - val_loss: 0.4587 - val_accuracy: 0.8584\n",
            "Epoch 88/100\n",
            "32/32 [==============================] - 2s 52ms/step - loss: 0.4386 - accuracy: 0.8775 - val_loss: 0.4199 - val_accuracy: 0.8950\n",
            "Epoch 89/100\n",
            "32/32 [==============================] - 2s 51ms/step - loss: 0.4422 - accuracy: 0.8787 - val_loss: 0.4193 - val_accuracy: 0.8995\n",
            "Epoch 90/100\n",
            "32/32 [==============================] - 2s 52ms/step - loss: 0.4406 - accuracy: 0.8918 - val_loss: 0.4254 - val_accuracy: 0.8904\n",
            "Epoch 91/100\n",
            "32/32 [==============================] - 2s 51ms/step - loss: 0.4412 - accuracy: 0.8910 - val_loss: 0.4301 - val_accuracy: 0.8813\n",
            "Epoch 92/100\n",
            "32/32 [==============================] - 2s 51ms/step - loss: 0.4492 - accuracy: 0.8725 - val_loss: 0.4143 - val_accuracy: 0.8995\n",
            "Epoch 93/100\n",
            "32/32 [==============================] - 2s 51ms/step - loss: 0.4364 - accuracy: 0.8839 - val_loss: 0.4186 - val_accuracy: 0.8950\n",
            "Epoch 94/100\n",
            "32/32 [==============================] - 2s 52ms/step - loss: 0.4312 - accuracy: 0.8898 - val_loss: 0.4109 - val_accuracy: 0.8904\n",
            "Epoch 95/100\n",
            "32/32 [==============================] - 2s 52ms/step - loss: 0.4317 - accuracy: 0.8850 - val_loss: 0.4140 - val_accuracy: 0.8904\n",
            "Epoch 96/100\n",
            "32/32 [==============================] - 2s 52ms/step - loss: 0.4252 - accuracy: 0.8910 - val_loss: 0.4167 - val_accuracy: 0.8995\n",
            "Epoch 97/100\n",
            "32/32 [==============================] - 2s 51ms/step - loss: 0.4148 - accuracy: 0.8866 - val_loss: 0.4666 - val_accuracy: 0.8493\n",
            "Epoch 98/100\n",
            "32/32 [==============================] - 2s 52ms/step - loss: 0.4046 - accuracy: 0.8952 - val_loss: 0.4184 - val_accuracy: 0.8995\n",
            "Epoch 99/100\n",
            "32/32 [==============================] - 2s 52ms/step - loss: 0.4044 - accuracy: 0.8933 - val_loss: 0.4291 - val_accuracy: 0.8995\n",
            "Epoch 100/100\n",
            "32/32 [==============================] - 2s 52ms/step - loss: 0.4437 - accuracy: 0.8741 - val_loss: 0.4409 - val_accuracy: 0.8584\n"
          ],
          "name": "stdout"
        }
      ]
    },
    {
      "cell_type": "markdown",
      "metadata": {
        "id": "msJFqMTJ9-rQ"
      },
      "source": [
        "## Visualizing Loss & Accuracy"
      ]
    },
    {
      "cell_type": "code",
      "metadata": {
        "colab": {
          "base_uri": "https://localhost:8080/",
          "height": 295
        },
        "id": "FqqGok8H997-",
        "outputId": "e2d42b2a-beae-465a-eb1a-9915cbb1d54a"
      },
      "source": [
        "plt.plot(hist_4.history['loss'])\n",
        "plt.plot(hist_4.history['val_loss'])\n",
        "plt.title('Model loss')\n",
        "plt.ylabel('Loss')\n",
        "plt.xlabel('Epoch')\n",
        "plt.legend(['Train', 'Val'], loc='upper right')\n",
        "plt.ylim(top=1.2, bottom=0)\n",
        "plt.show()"
      ],
      "execution_count": 103,
      "outputs": [
        {
          "output_type": "display_data",
          "data": {
            "image/png": "[encoded data removed]",
            "text/plain": [
              "<Figure size 432x288 with 1 Axes>"
            ]
          },
          "metadata": {
            "tags": [],
            "needs_background": "light"
          }
        }
      ]
    },
    {
      "cell_type": "code",
      "metadata": {
        "colab": {
          "base_uri": "https://localhost:8080/",
          "height": 295
        },
        "id": "WdJZ77Ek-J6Z",
        "outputId": "b2f2172f-4dd7-491b-97a5-c64511c2e5f2"
      },
      "source": [
        "plt.plot(hist_4.history['accuracy'])\n",
        "plt.plot(hist_4.history['val_accuracy'])\n",
        "plt.title('Model accuracy')\n",
        "plt.ylabel('Accuracy')\n",
        "plt.xlabel('Epoch')\n",
        "plt.legend(['Train', 'Val'], loc='lower right')\n",
        "plt.show()"
      ],
      "execution_count": 104,
      "outputs": [
        {
          "output_type": "display_data",
          "data": {
            "image/png": "[encoded data removed]",
            "text/plain": [
              "<Figure size 432x288 with 1 Axes>"
            ]
          },
          "metadata": {
            "tags": [],
            "needs_background": "light"
          }
        }
      ]
    },
    {
      "cell_type": "markdown",
      "metadata": {
        "id": "T4aSpWTxuVii"
      },
      "source": [
        "# Building and Training the Neural Network (Changing hyperparameters)"
      ]
    },
    {
      "cell_type": "markdown",
      "metadata": {
        "id": "7I7fL0UQO-TZ"
      },
      "source": [
        "Experimentation"
      ]
    },
    {
      "cell_type": "code",
      "metadata": {
        "id": "43x1_QZNuViu"
      },
      "source": [
        "from keras.models import Sequential\n",
        "from keras.layers import Dense"
      ],
      "execution_count": null,
      "outputs": []
    },
    {
      "cell_type": "code",
      "metadata": {
        "id": "7QQ5WkmQuViu"
      },
      "source": [
        "model = Sequential([\n",
        "    Dense(32, activation='relu', input_shape=(10,)), #10 input features\n",
        "    Dense(32, activation='relu'), #fully-connected layer \n",
        "    Dense(1, activation='sigmoid'),\n",
        "])"
      ],
      "execution_count": 84,
      "outputs": []
    },
    {
      "cell_type": "code",
      "metadata": {
        "id": "B4vqbILnuViv"
      },
      "source": [
        "model.compile(optimizer='adam',\n",
        "              loss='binary_crossentropy',\n",
        "              metrics=['accuracy'])"
      ],
      "execution_count": 85,
      "outputs": []
    },
    {
      "cell_type": "code",
      "metadata": {
        "colab": {
          "base_uri": "https://localhost:8080/"
        },
        "id": "jJ_GiBSBuViv",
        "outputId": "065257bf-d68c-43a9-e840-2d21fe1ef944"
      },
      "source": [
        "hist = model.fit(X_train, Y_train,\n",
        "          batch_size=32, epochs=130,\n",
        "          validation_data=(X_val, Y_val))"
      ],
      "execution_count": 45,
      "outputs": [
        {
          "output_type": "stream",
          "text": [
            "Epoch 1/130\n",
            "32/32 [==============================] - 0s 3ms/step - loss: 0.2802 - accuracy: 0.8933 - val_loss: 0.2799 - val_accuracy: 0.8767\n",
            "Epoch 2/130\n",
            "32/32 [==============================] - 0s 2ms/step - loss: 0.2802 - accuracy: 0.8904 - val_loss: 0.2799 - val_accuracy: 0.8813\n",
            "Epoch 3/130\n",
            "32/32 [==============================] - 0s 3ms/step - loss: 0.2795 - accuracy: 0.8924 - val_loss: 0.2775 - val_accuracy: 0.8767\n",
            "Epoch 4/130\n",
            "32/32 [==============================] - 0s 3ms/step - loss: 0.2790 - accuracy: 0.8914 - val_loss: 0.2770 - val_accuracy: 0.8767\n",
            "Epoch 5/130\n",
            "32/32 [==============================] - 0s 2ms/step - loss: 0.2786 - accuracy: 0.8894 - val_loss: 0.2787 - val_accuracy: 0.8813\n",
            "Epoch 6/130\n",
            "32/32 [==============================] - 0s 3ms/step - loss: 0.2780 - accuracy: 0.8904 - val_loss: 0.2773 - val_accuracy: 0.8813\n",
            "Epoch 7/130\n",
            "32/32 [==============================] - 0s 2ms/step - loss: 0.2767 - accuracy: 0.8953 - val_loss: 0.2760 - val_accuracy: 0.8767\n",
            "Epoch 8/130\n",
            "32/32 [==============================] - 0s 2ms/step - loss: 0.2773 - accuracy: 0.8914 - val_loss: 0.2756 - val_accuracy: 0.8767\n",
            "Epoch 9/130\n",
            "32/32 [==============================] - 0s 2ms/step - loss: 0.2768 - accuracy: 0.8894 - val_loss: 0.2753 - val_accuracy: 0.8767\n",
            "Epoch 10/130\n",
            "32/32 [==============================] - 0s 3ms/step - loss: 0.2756 - accuracy: 0.8943 - val_loss: 0.2751 - val_accuracy: 0.8813\n",
            "Epoch 11/130\n",
            "32/32 [==============================] - 0s 2ms/step - loss: 0.2750 - accuracy: 0.8933 - val_loss: 0.2762 - val_accuracy: 0.8813\n",
            "Epoch 12/130\n",
            "32/32 [==============================] - 0s 3ms/step - loss: 0.2742 - accuracy: 0.8943 - val_loss: 0.2735 - val_accuracy: 0.8767\n",
            "Epoch 13/130\n",
            "32/32 [==============================] - 0s 3ms/step - loss: 0.2748 - accuracy: 0.8963 - val_loss: 0.2742 - val_accuracy: 0.8813\n",
            "Epoch 14/130\n",
            "32/32 [==============================] - 0s 2ms/step - loss: 0.2742 - accuracy: 0.8943 - val_loss: 0.2736 - val_accuracy: 0.8813\n",
            "Epoch 15/130\n",
            "32/32 [==============================] - 0s 3ms/step - loss: 0.2738 - accuracy: 0.8953 - val_loss: 0.2731 - val_accuracy: 0.8813\n",
            "Epoch 16/130\n",
            "32/32 [==============================] - 0s 3ms/step - loss: 0.2723 - accuracy: 0.8963 - val_loss: 0.2734 - val_accuracy: 0.8813\n",
            "Epoch 17/130\n",
            "32/32 [==============================] - 0s 2ms/step - loss: 0.2726 - accuracy: 0.8973 - val_loss: 0.2712 - val_accuracy: 0.8767\n",
            "Epoch 18/130\n",
            "32/32 [==============================] - 0s 2ms/step - loss: 0.2722 - accuracy: 0.8953 - val_loss: 0.2709 - val_accuracy: 0.8767\n",
            "Epoch 19/130\n",
            "32/32 [==============================] - 0s 2ms/step - loss: 0.2721 - accuracy: 0.8963 - val_loss: 0.2726 - val_accuracy: 0.8858\n",
            "Epoch 20/130\n",
            "32/32 [==============================] - 0s 2ms/step - loss: 0.2720 - accuracy: 0.8924 - val_loss: 0.2716 - val_accuracy: 0.8813\n",
            "Epoch 21/130\n",
            "32/32 [==============================] - 0s 3ms/step - loss: 0.2714 - accuracy: 0.8924 - val_loss: 0.2704 - val_accuracy: 0.8813\n",
            "Epoch 22/130\n",
            "32/32 [==============================] - 0s 2ms/step - loss: 0.2708 - accuracy: 0.8953 - val_loss: 0.2701 - val_accuracy: 0.8813\n",
            "Epoch 23/130\n",
            "32/32 [==============================] - 0s 2ms/step - loss: 0.2701 - accuracy: 0.8953 - val_loss: 0.2730 - val_accuracy: 0.8858\n",
            "Epoch 24/130\n",
            "32/32 [==============================] - 0s 3ms/step - loss: 0.2699 - accuracy: 0.8973 - val_loss: 0.2703 - val_accuracy: 0.8813\n",
            "Epoch 25/130\n",
            "32/32 [==============================] - 0s 2ms/step - loss: 0.2695 - accuracy: 0.8943 - val_loss: 0.2693 - val_accuracy: 0.8858\n",
            "Epoch 26/130\n",
            "32/32 [==============================] - 0s 3ms/step - loss: 0.2694 - accuracy: 0.8943 - val_loss: 0.2708 - val_accuracy: 0.8858\n",
            "Epoch 27/130\n",
            "32/32 [==============================] - 0s 2ms/step - loss: 0.2689 - accuracy: 0.8943 - val_loss: 0.2704 - val_accuracy: 0.8858\n",
            "Epoch 28/130\n",
            "32/32 [==============================] - 0s 3ms/step - loss: 0.2693 - accuracy: 0.8943 - val_loss: 0.2690 - val_accuracy: 0.8813\n",
            "Epoch 29/130\n",
            "32/32 [==============================] - 0s 3ms/step - loss: 0.2681 - accuracy: 0.8943 - val_loss: 0.2676 - val_accuracy: 0.8858\n",
            "Epoch 30/130\n",
            "32/32 [==============================] - 0s 2ms/step - loss: 0.2679 - accuracy: 0.8943 - val_loss: 0.2677 - val_accuracy: 0.8813\n",
            "Epoch 31/130\n",
            "32/32 [==============================] - 0s 3ms/step - loss: 0.2677 - accuracy: 0.8933 - val_loss: 0.2668 - val_accuracy: 0.8858\n",
            "Epoch 32/130\n",
            "32/32 [==============================] - 0s 3ms/step - loss: 0.2679 - accuracy: 0.8943 - val_loss: 0.2664 - val_accuracy: 0.8858\n",
            "Epoch 33/130\n",
            "32/32 [==============================] - 0s 2ms/step - loss: 0.2675 - accuracy: 0.8953 - val_loss: 0.2692 - val_accuracy: 0.8858\n",
            "Epoch 34/130\n",
            "32/32 [==============================] - 0s 2ms/step - loss: 0.2666 - accuracy: 0.8982 - val_loss: 0.2690 - val_accuracy: 0.8858\n",
            "Epoch 35/130\n",
            "32/32 [==============================] - 0s 2ms/step - loss: 0.2664 - accuracy: 0.8982 - val_loss: 0.2677 - val_accuracy: 0.8858\n",
            "Epoch 36/130\n",
            "32/32 [==============================] - 0s 3ms/step - loss: 0.2664 - accuracy: 0.8943 - val_loss: 0.2694 - val_accuracy: 0.8858\n",
            "Epoch 37/130\n",
            "32/32 [==============================] - 0s 3ms/step - loss: 0.2661 - accuracy: 0.8973 - val_loss: 0.2655 - val_accuracy: 0.8858\n",
            "Epoch 38/130\n",
            "32/32 [==============================] - 0s 2ms/step - loss: 0.2656 - accuracy: 0.8943 - val_loss: 0.2663 - val_accuracy: 0.8858\n",
            "Epoch 39/130\n",
            "32/32 [==============================] - 0s 3ms/step - loss: 0.2644 - accuracy: 0.8982 - val_loss: 0.2687 - val_accuracy: 0.8858\n",
            "Epoch 40/130\n",
            "32/32 [==============================] - 0s 2ms/step - loss: 0.2649 - accuracy: 0.8973 - val_loss: 0.2653 - val_accuracy: 0.8813\n",
            "Epoch 41/130\n",
            "32/32 [==============================] - 0s 2ms/step - loss: 0.2646 - accuracy: 0.8973 - val_loss: 0.2640 - val_accuracy: 0.8858\n",
            "Epoch 42/130\n",
            "32/32 [==============================] - 0s 3ms/step - loss: 0.2643 - accuracy: 0.8973 - val_loss: 0.2634 - val_accuracy: 0.8858\n",
            "Epoch 43/130\n",
            "32/32 [==============================] - 0s 2ms/step - loss: 0.2646 - accuracy: 0.8982 - val_loss: 0.2632 - val_accuracy: 0.8858\n",
            "Epoch 44/130\n",
            "32/32 [==============================] - 0s 3ms/step - loss: 0.2639 - accuracy: 0.8953 - val_loss: 0.2629 - val_accuracy: 0.8858\n",
            "Epoch 45/130\n",
            "32/32 [==============================] - 0s 3ms/step - loss: 0.2647 - accuracy: 0.8992 - val_loss: 0.2632 - val_accuracy: 0.8858\n",
            "Epoch 46/130\n",
            "32/32 [==============================] - 0s 2ms/step - loss: 0.2633 - accuracy: 0.8963 - val_loss: 0.2633 - val_accuracy: 0.8858\n",
            "Epoch 47/130\n",
            "32/32 [==============================] - 0s 2ms/step - loss: 0.2622 - accuracy: 0.8973 - val_loss: 0.2684 - val_accuracy: 0.8858\n",
            "Epoch 48/130\n",
            "32/32 [==============================] - 0s 2ms/step - loss: 0.2632 - accuracy: 0.8992 - val_loss: 0.2636 - val_accuracy: 0.8904\n",
            "Epoch 49/130\n",
            "32/32 [==============================] - 0s 3ms/step - loss: 0.2619 - accuracy: 0.8992 - val_loss: 0.2629 - val_accuracy: 0.8858\n",
            "Epoch 50/130\n",
            "32/32 [==============================] - 0s 3ms/step - loss: 0.2625 - accuracy: 0.8992 - val_loss: 0.2622 - val_accuracy: 0.8858\n",
            "Epoch 51/130\n",
            "32/32 [==============================] - 0s 3ms/step - loss: 0.2627 - accuracy: 0.8973 - val_loss: 0.2615 - val_accuracy: 0.8858\n",
            "Epoch 52/130\n",
            "32/32 [==============================] - 0s 2ms/step - loss: 0.2618 - accuracy: 0.8982 - val_loss: 0.2623 - val_accuracy: 0.8858\n",
            "Epoch 53/130\n",
            "32/32 [==============================] - 0s 2ms/step - loss: 0.2610 - accuracy: 0.9012 - val_loss: 0.2611 - val_accuracy: 0.8858\n",
            "Epoch 54/130\n",
            "32/32 [==============================] - 0s 3ms/step - loss: 0.2612 - accuracy: 0.8973 - val_loss: 0.2606 - val_accuracy: 0.8858\n",
            "Epoch 55/130\n",
            "32/32 [==============================] - 0s 3ms/step - loss: 0.2618 - accuracy: 0.8933 - val_loss: 0.2622 - val_accuracy: 0.8904\n",
            "Epoch 56/130\n",
            "32/32 [==============================] - 0s 2ms/step - loss: 0.2608 - accuracy: 0.8992 - val_loss: 0.2627 - val_accuracy: 0.8904\n",
            "Epoch 57/130\n",
            "32/32 [==============================] - 0s 2ms/step - loss: 0.2612 - accuracy: 0.8973 - val_loss: 0.2620 - val_accuracy: 0.8904\n",
            "Epoch 58/130\n",
            "32/32 [==============================] - 0s 2ms/step - loss: 0.2610 - accuracy: 0.8982 - val_loss: 0.2621 - val_accuracy: 0.8904\n",
            "Epoch 59/130\n",
            "32/32 [==============================] - 0s 2ms/step - loss: 0.2606 - accuracy: 0.8992 - val_loss: 0.2609 - val_accuracy: 0.8904\n",
            "Epoch 60/130\n",
            "32/32 [==============================] - 0s 2ms/step - loss: 0.2601 - accuracy: 0.8963 - val_loss: 0.2637 - val_accuracy: 0.8858\n",
            "Epoch 61/130\n",
            "32/32 [==============================] - 0s 3ms/step - loss: 0.2603 - accuracy: 0.8982 - val_loss: 0.2641 - val_accuracy: 0.8858\n",
            "Epoch 62/130\n",
            "32/32 [==============================] - 0s 3ms/step - loss: 0.2603 - accuracy: 0.8933 - val_loss: 0.2636 - val_accuracy: 0.8858\n",
            "Epoch 63/130\n",
            "32/32 [==============================] - 0s 2ms/step - loss: 0.2601 - accuracy: 0.8982 - val_loss: 0.2637 - val_accuracy: 0.8858\n",
            "Epoch 64/130\n",
            "32/32 [==============================] - 0s 2ms/step - loss: 0.2597 - accuracy: 0.8953 - val_loss: 0.2668 - val_accuracy: 0.8813\n",
            "Epoch 65/130\n",
            "32/32 [==============================] - 0s 2ms/step - loss: 0.2613 - accuracy: 0.8982 - val_loss: 0.2659 - val_accuracy: 0.8858\n",
            "Epoch 66/130\n",
            "32/32 [==============================] - 0s 3ms/step - loss: 0.2591 - accuracy: 0.8982 - val_loss: 0.2648 - val_accuracy: 0.8858\n",
            "Epoch 67/130\n",
            "32/32 [==============================] - 0s 2ms/step - loss: 0.2575 - accuracy: 0.8982 - val_loss: 0.2695 - val_accuracy: 0.8858\n",
            "Epoch 68/130\n",
            "32/32 [==============================] - 0s 3ms/step - loss: 0.2592 - accuracy: 0.8973 - val_loss: 0.2639 - val_accuracy: 0.8858\n",
            "Epoch 69/130\n",
            "32/32 [==============================] - 0s 3ms/step - loss: 0.2584 - accuracy: 0.8963 - val_loss: 0.2625 - val_accuracy: 0.8904\n",
            "Epoch 70/130\n",
            "32/32 [==============================] - 0s 2ms/step - loss: 0.2588 - accuracy: 0.8992 - val_loss: 0.2600 - val_accuracy: 0.8904\n",
            "Epoch 71/130\n",
            "32/32 [==============================] - 0s 3ms/step - loss: 0.2573 - accuracy: 0.8982 - val_loss: 0.2645 - val_accuracy: 0.8904\n",
            "Epoch 72/130\n",
            "32/32 [==============================] - 0s 2ms/step - loss: 0.2577 - accuracy: 0.8992 - val_loss: 0.2585 - val_accuracy: 0.8904\n",
            "Epoch 73/130\n",
            "32/32 [==============================] - 0s 3ms/step - loss: 0.2579 - accuracy: 0.8982 - val_loss: 0.2621 - val_accuracy: 0.8904\n",
            "Epoch 74/130\n",
            "32/32 [==============================] - 0s 2ms/step - loss: 0.2575 - accuracy: 0.8973 - val_loss: 0.2600 - val_accuracy: 0.8904\n",
            "Epoch 75/130\n",
            "32/32 [==============================] - 0s 3ms/step - loss: 0.2566 - accuracy: 0.8982 - val_loss: 0.2599 - val_accuracy: 0.8904\n",
            "Epoch 76/130\n",
            "32/32 [==============================] - 0s 3ms/step - loss: 0.2568 - accuracy: 0.9012 - val_loss: 0.2568 - val_accuracy: 0.8858\n",
            "Epoch 77/130\n",
            "32/32 [==============================] - 0s 2ms/step - loss: 0.2574 - accuracy: 0.8973 - val_loss: 0.2573 - val_accuracy: 0.8858\n",
            "Epoch 78/130\n",
            "32/32 [==============================] - 0s 3ms/step - loss: 0.2564 - accuracy: 0.8992 - val_loss: 0.2574 - val_accuracy: 0.8904\n",
            "Epoch 79/130\n",
            "32/32 [==============================] - 0s 2ms/step - loss: 0.2564 - accuracy: 0.8982 - val_loss: 0.2629 - val_accuracy: 0.8995\n",
            "Epoch 80/130\n",
            "32/32 [==============================] - 0s 2ms/step - loss: 0.2566 - accuracy: 0.8973 - val_loss: 0.2566 - val_accuracy: 0.8858\n",
            "Epoch 81/130\n",
            "32/32 [==============================] - 0s 3ms/step - loss: 0.2560 - accuracy: 0.8973 - val_loss: 0.2566 - val_accuracy: 0.8858\n",
            "Epoch 82/130\n",
            "32/32 [==============================] - 0s 2ms/step - loss: 0.2567 - accuracy: 0.9012 - val_loss: 0.2573 - val_accuracy: 0.8904\n",
            "Epoch 83/130\n",
            "32/32 [==============================] - 0s 2ms/step - loss: 0.2562 - accuracy: 0.8982 - val_loss: 0.2622 - val_accuracy: 0.8995\n",
            "Epoch 84/130\n",
            "32/32 [==============================] - 0s 3ms/step - loss: 0.2558 - accuracy: 0.8973 - val_loss: 0.2639 - val_accuracy: 0.8995\n",
            "Epoch 85/130\n",
            "32/32 [==============================] - 0s 2ms/step - loss: 0.2560 - accuracy: 0.8982 - val_loss: 0.2591 - val_accuracy: 0.8950\n",
            "Epoch 86/130\n",
            "32/32 [==============================] - 0s 3ms/step - loss: 0.2556 - accuracy: 0.8963 - val_loss: 0.2561 - val_accuracy: 0.8858\n",
            "Epoch 87/130\n",
            "32/32 [==============================] - 0s 2ms/step - loss: 0.2554 - accuracy: 0.9012 - val_loss: 0.2593 - val_accuracy: 0.8950\n",
            "Epoch 88/130\n",
            "32/32 [==============================] - 0s 3ms/step - loss: 0.2537 - accuracy: 0.9002 - val_loss: 0.2687 - val_accuracy: 0.8813\n",
            "Epoch 89/130\n",
            "32/32 [==============================] - 0s 3ms/step - loss: 0.2551 - accuracy: 0.9051 - val_loss: 0.2569 - val_accuracy: 0.8950\n",
            "Epoch 90/130\n",
            "32/32 [==============================] - 0s 2ms/step - loss: 0.2558 - accuracy: 0.9002 - val_loss: 0.2572 - val_accuracy: 0.8950\n",
            "Epoch 91/130\n",
            "32/32 [==============================] - 0s 2ms/step - loss: 0.2548 - accuracy: 0.9002 - val_loss: 0.2587 - val_accuracy: 0.8950\n",
            "Epoch 92/130\n",
            "32/32 [==============================] - 0s 3ms/step - loss: 0.2548 - accuracy: 0.8982 - val_loss: 0.2569 - val_accuracy: 0.8950\n",
            "Epoch 93/130\n",
            "32/32 [==============================] - 0s 2ms/step - loss: 0.2538 - accuracy: 0.8982 - val_loss: 0.2585 - val_accuracy: 0.8950\n",
            "Epoch 94/130\n",
            "32/32 [==============================] - 0s 2ms/step - loss: 0.2540 - accuracy: 0.9002 - val_loss: 0.2586 - val_accuracy: 0.8995\n",
            "Epoch 95/130\n",
            "32/32 [==============================] - 0s 2ms/step - loss: 0.2546 - accuracy: 0.9002 - val_loss: 0.2578 - val_accuracy: 0.8950\n",
            "Epoch 96/130\n",
            "32/32 [==============================] - 0s 2ms/step - loss: 0.2539 - accuracy: 0.9012 - val_loss: 0.2561 - val_accuracy: 0.8950\n",
            "Epoch 97/130\n",
            "32/32 [==============================] - 0s 2ms/step - loss: 0.2542 - accuracy: 0.8973 - val_loss: 0.2549 - val_accuracy: 0.8904\n",
            "Epoch 98/130\n",
            "32/32 [==============================] - 0s 2ms/step - loss: 0.2536 - accuracy: 0.8982 - val_loss: 0.2541 - val_accuracy: 0.8904\n",
            "Epoch 99/130\n",
            "32/32 [==============================] - 0s 2ms/step - loss: 0.2538 - accuracy: 0.9002 - val_loss: 0.2551 - val_accuracy: 0.8950\n",
            "Epoch 100/130\n",
            "32/32 [==============================] - 0s 2ms/step - loss: 0.2522 - accuracy: 0.9012 - val_loss: 0.2536 - val_accuracy: 0.8950\n",
            "Epoch 101/130\n",
            "32/32 [==============================] - 0s 2ms/step - loss: 0.2541 - accuracy: 0.8992 - val_loss: 0.2553 - val_accuracy: 0.8950\n",
            "Epoch 102/130\n",
            "32/32 [==============================] - 0s 3ms/step - loss: 0.2529 - accuracy: 0.8982 - val_loss: 0.2545 - val_accuracy: 0.8950\n",
            "Epoch 103/130\n",
            "32/32 [==============================] - 0s 2ms/step - loss: 0.2525 - accuracy: 0.9022 - val_loss: 0.2534 - val_accuracy: 0.8904\n",
            "Epoch 104/130\n",
            "32/32 [==============================] - 0s 2ms/step - loss: 0.2533 - accuracy: 0.8963 - val_loss: 0.2552 - val_accuracy: 0.8950\n",
            "Epoch 105/130\n",
            "32/32 [==============================] - 0s 2ms/step - loss: 0.2538 - accuracy: 0.8963 - val_loss: 0.2545 - val_accuracy: 0.8950\n",
            "Epoch 106/130\n",
            "32/32 [==============================] - 0s 2ms/step - loss: 0.2529 - accuracy: 0.9041 - val_loss: 0.2560 - val_accuracy: 0.8950\n",
            "Epoch 107/130\n",
            "32/32 [==============================] - 0s 3ms/step - loss: 0.2523 - accuracy: 0.9041 - val_loss: 0.2616 - val_accuracy: 0.8995\n",
            "Epoch 108/130\n",
            "32/32 [==============================] - 0s 3ms/step - loss: 0.2530 - accuracy: 0.8992 - val_loss: 0.2546 - val_accuracy: 0.8950\n",
            "Epoch 109/130\n",
            "32/32 [==============================] - 0s 2ms/step - loss: 0.2529 - accuracy: 0.8992 - val_loss: 0.2581 - val_accuracy: 0.8995\n",
            "Epoch 110/130\n",
            "32/32 [==============================] - 0s 3ms/step - loss: 0.2521 - accuracy: 0.8992 - val_loss: 0.2535 - val_accuracy: 0.8904\n",
            "Epoch 111/130\n",
            "32/32 [==============================] - 0s 2ms/step - loss: 0.2520 - accuracy: 0.9022 - val_loss: 0.2544 - val_accuracy: 0.8950\n",
            "Epoch 112/130\n",
            "32/32 [==============================] - 0s 3ms/step - loss: 0.2523 - accuracy: 0.9022 - val_loss: 0.2542 - val_accuracy: 0.8950\n",
            "Epoch 113/130\n",
            "32/32 [==============================] - 0s 3ms/step - loss: 0.2525 - accuracy: 0.8982 - val_loss: 0.2545 - val_accuracy: 0.8950\n",
            "Epoch 114/130\n",
            "32/32 [==============================] - 0s 3ms/step - loss: 0.2523 - accuracy: 0.9012 - val_loss: 0.2555 - val_accuracy: 0.8995\n",
            "Epoch 115/130\n",
            "32/32 [==============================] - 0s 3ms/step - loss: 0.2519 - accuracy: 0.8992 - val_loss: 0.2537 - val_accuracy: 0.8950\n",
            "Epoch 116/130\n",
            "32/32 [==============================] - 0s 2ms/step - loss: 0.2524 - accuracy: 0.9002 - val_loss: 0.2534 - val_accuracy: 0.8950\n",
            "Epoch 117/130\n",
            "32/32 [==============================] - 0s 2ms/step - loss: 0.2518 - accuracy: 0.9012 - val_loss: 0.2528 - val_accuracy: 0.8904\n",
            "Epoch 118/130\n",
            "32/32 [==============================] - 0s 2ms/step - loss: 0.2520 - accuracy: 0.9022 - val_loss: 0.2547 - val_accuracy: 0.8995\n",
            "Epoch 119/130\n",
            "32/32 [==============================] - 0s 3ms/step - loss: 0.2510 - accuracy: 0.9031 - val_loss: 0.2581 - val_accuracy: 0.8995\n",
            "Epoch 120/130\n",
            "32/32 [==============================] - 0s 2ms/step - loss: 0.2512 - accuracy: 0.8982 - val_loss: 0.2520 - val_accuracy: 0.8904\n",
            "Epoch 121/130\n",
            "32/32 [==============================] - 0s 3ms/step - loss: 0.2513 - accuracy: 0.9022 - val_loss: 0.2517 - val_accuracy: 0.8950\n",
            "Epoch 122/130\n",
            "32/32 [==============================] - 0s 2ms/step - loss: 0.2505 - accuracy: 0.9031 - val_loss: 0.2572 - val_accuracy: 0.8995\n",
            "Epoch 123/130\n",
            "32/32 [==============================] - 0s 3ms/step - loss: 0.2515 - accuracy: 0.9022 - val_loss: 0.2553 - val_accuracy: 0.8995\n",
            "Epoch 124/130\n",
            "32/32 [==============================] - 0s 3ms/step - loss: 0.2514 - accuracy: 0.9002 - val_loss: 0.2519 - val_accuracy: 0.8904\n",
            "Epoch 125/130\n",
            "32/32 [==============================] - 0s 2ms/step - loss: 0.2506 - accuracy: 0.8992 - val_loss: 0.2543 - val_accuracy: 0.8995\n",
            "Epoch 126/130\n",
            "32/32 [==============================] - 0s 3ms/step - loss: 0.2508 - accuracy: 0.8992 - val_loss: 0.2522 - val_accuracy: 0.8904\n",
            "Epoch 127/130\n",
            "32/32 [==============================] - 0s 2ms/step - loss: 0.2505 - accuracy: 0.9031 - val_loss: 0.2546 - val_accuracy: 0.8995\n",
            "Epoch 128/130\n",
            "32/32 [==============================] - 0s 2ms/step - loss: 0.2505 - accuracy: 0.9002 - val_loss: 0.2531 - val_accuracy: 0.8995\n",
            "Epoch 129/130\n",
            "32/32 [==============================] - 0s 2ms/step - loss: 0.2502 - accuracy: 0.9002 - val_loss: 0.2549 - val_accuracy: 0.8995\n",
            "Epoch 130/130\n",
            "32/32 [==============================] - 0s 2ms/step - loss: 0.2500 - accuracy: 0.9012 - val_loss: 0.2544 - val_accuracy: 0.8995\n"
          ],
          "name": "stdout"
        }
      ]
    },
    {
      "cell_type": "markdown",
      "metadata": {
        "id": "_kamkamqvOZ9"
      },
      "source": [
        "## Results"
      ]
    },
    {
      "cell_type": "markdown",
      "metadata": {
        "id": "IWNodtHpuViw"
      },
      "source": [
        "loss: 0.2779 - accuracy: 0.8950 - val_loss: 0.2754 - val_accuracy: 0.8813 with optimizer SGD\n",
        "\n",
        "loss: 0.1513 - accuracy: 0.9364 - val_loss: 0.2771 - val_accuracy: 0.8858 with optimizer Adam\n",
        "\n",
        "loss: 0.1328 - accuracy: 0.9472 - val_loss: 0.2899 - val_accuracy: 0.8767 with 200 epochs & Adam\n",
        "loss: 0.2500 - accuracy: 0.9012 - val_loss: 0.2544 - val_accuracy: 0.8995 with 130 epochs & Adam, test  loss: 0.2254 - accuracy: 0.9041\n"
      ]
    },
    {
      "cell_type": "code",
      "metadata": {
        "colab": {
          "base_uri": "https://localhost:8080/"
        },
        "id": "eHjqyhcmuVix",
        "outputId": "666a3df3-94e5-40a1-c25e-27e53232b21e"
      },
      "source": [
        "#to find accuracy (index 1)\n",
        "model.evaluate(X_test, Y_test)[1]"
      ],
      "execution_count": 88,
      "outputs": [
        {
          "output_type": "stream",
          "text": [
            "7/7 [==============================] - 0s 2ms/step - loss: 0.2254 - accuracy: 0.9041\n"
          ],
          "name": "stdout"
        },
        {
          "output_type": "execute_result",
          "data": {
            "text/plain": [
              "0.9041095972061157"
            ]
          },
          "metadata": {
            "tags": []
          },
          "execution_count": 88
        }
      ]
    },
    {
      "cell_type": "markdown",
      "metadata": {
        "id": "OH4LB1ZluhS9"
      },
      "source": [
        "# Visualizing Loss & Accuracy"
      ]
    },
    {
      "cell_type": "code",
      "metadata": {
        "colab": {
          "base_uri": "https://localhost:8080/",
          "height": 295
        },
        "id": "WL0KA0JUtbTs",
        "outputId": "a5c0c0a5-02d3-4919-dc4b-d92ef42d123b"
      },
      "source": [
        "plt.plot(hist.history['loss'])\n",
        "plt.plot(hist.history['val_loss'])\n",
        "plt.title('Model loss')\n",
        "plt.ylabel('Loss')\n",
        "plt.xlabel('Epoch')\n",
        "plt.legend(['Train', 'Val'], loc='upper right')\n",
        "plt.show()"
      ],
      "execution_count": 89,
      "outputs": [
        {
          "output_type": "display_data",
          "data": {
            "image/png": "[encoded data removed]",
            "text/plain": [
              "<Figure size 432x288 with 1 Axes>"
            ]
          },
          "metadata": {
            "tags": [],
            "needs_background": "light"
          }
        }
      ]
    },
    {
      "cell_type": "code",
      "metadata": {
        "colab": {
          "base_uri": "https://localhost:8080/",
          "height": 295
        },
        "id": "LZYieHQXvZdB",
        "outputId": "a435d498-2e61-4485-dd2f-28ccaab7a7f8"
      },
      "source": [
        "plt.plot(hist.history['accuracy'])\n",
        "plt.plot(hist.history['val_accuracy'])\n",
        "plt.title('Model accuracy')\n",
        "plt.ylabel('Accuracy')\n",
        "plt.xlabel('Epoch')\n",
        "plt.legend(['Train', 'Val'], loc='lower right')\n",
        "plt.show()"
      ],
      "execution_count": 90,
      "outputs": [
        {
          "output_type": "display_data",
          "data": {
            "image/png": "[encoded data removed]",
            "text/plain": [
              "<Figure size 432x288 with 1 Axes>"
            ]
          },
          "metadata": {
            "tags": [],
            "needs_background": "light"
          }
        }
      ]
    }
  ]
}